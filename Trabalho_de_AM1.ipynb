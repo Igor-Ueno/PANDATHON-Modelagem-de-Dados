{
  "cells": [
    {
      "cell_type": "markdown",
      "source": [
        "# <center> Trabalho de Aprendizado de Máquina 1 </center>\n",
        "\n",
        "O seguinte trabalho tem por intenção comparar cinco algoritmos de classificação de dados para analisar e predizer se, dada uma cidade do Brasil, ela é capital ou não do país.\n",
        "\n",
        "O grupo é formado pelos integrantes:\n",
        "\n",
        "- Rafael de Camillo Masson, RA: 790774\n",
        "- Igor Kenji Kawai Ueno, RA: 790769\n",
        "- Pedro Henrique Casarotto, RA: 790935\n",
        "\n",
        "Para o trabalho, utilizou-se o dataset <strong> Brazilian Cities </strong>, disponível no seguinte link: https://www.kaggle.com/datasets/crisparada/brazilian-cities"
      ],
      "metadata": {
        "id": "Ald8Q6Rv7Ftv"
      }
    },
    {
      "cell_type": "markdown",
      "source": [
        "# Instanciação das bibliotecas e dos dados"
      ],
      "metadata": {
        "id": "OPgrwo2_An-c"
      }
    },
    {
      "cell_type": "code",
      "execution_count": null,
      "metadata": {
        "colab": {
          "base_uri": "https://localhost:8080/"
        },
        "id": "LR3JPxEEHMdz",
        "outputId": "41d5e39e-3703-4432-d42f-8766a40d986c"
      },
      "outputs": [
        {
          "output_type": "stream",
          "name": "stdout",
          "text": [
            "Drive already mounted at /content/drive; to attempt to forcibly remount, call drive.mount(\"/content/drive\", force_remount=True).\n"
          ]
        }
      ],
      "source": [
        "# Criar as pastas Datasets/Brazilian_Cities com os arquivos cvs\n",
        "# para não precisar dar upload quando for rodar o notebook\n",
        "from google.colab import drive\n",
        "drive.mount('/content/drive')"
      ]
    },
    {
      "cell_type": "code",
      "execution_count": null,
      "metadata": {
        "id": "DNOOwngYkOrN"
      },
      "outputs": [],
      "source": [
        "import pandas as pd\n",
        "import plotly.express as px\n",
        "import numpy as np\n",
        "from sklearn import preprocessing\n",
        "from sklearn import metrics\n",
        "from sklearn.model_selection import train_test_split"
      ]
    },
    {
      "cell_type": "code",
      "execution_count": null,
      "metadata": {
        "colab": {
          "base_uri": "https://localhost:8080/",
          "height": 574
        },
        "id": "yOW0qOpxkQka",
        "outputId": "1f5cbce7-6d11-46de-c1b9-a7e534545e64"
      },
      "outputs": [
        {
          "output_type": "execute_result",
          "data": {
            "text/plain": [
              "                     CITY STATE  CAPITAL  IBGE_RES_POP  IBGE_RES_POP_BRAS  \\\n",
              "0         Abadia De Goiás    GO        0        6876.0             6876.0   \n",
              "1     Abadia Dos Dourados    MG        0        6704.0             6704.0   \n",
              "2               Abadiânia    GO        0       15757.0            15609.0   \n",
              "3                  Abaeté    MG        0       22690.0            22690.0   \n",
              "4              Abaetetuba    PA        0      141100.0           141040.0   \n",
              "...                   ...   ...      ...           ...                ...   \n",
              "5568          Xique-Xique    BA        0       45536.0            45536.0   \n",
              "5569               Zabelê    PB        0        2075.0             2075.0   \n",
              "5570             Zacarias    SP        0        2335.0             2335.0   \n",
              "5571              Zé Doca    MA        0       50173.0            50152.0   \n",
              "5572               Zortéa    SC        0        2991.0             2991.0   \n",
              "\n",
              "      IBGE_RES_POP_ESTR  IBGE_DU  IBGE_DU_URBAN  IBGE_DU_RURAL  IBGE_POP  ...  \\\n",
              "0                   0.0   2137.0         1546.0          591.0    5300.0  ...   \n",
              "1                   0.0   2328.0         1481.0          847.0    4154.0  ...   \n",
              "2                 148.0   4655.0         3233.0         1422.0   10656.0  ...   \n",
              "3                   0.0   7694.0         6667.0         1027.0   18464.0  ...   \n",
              "4                  60.0  31061.0        19057.0        12004.0   82956.0  ...   \n",
              "...                 ...      ...            ...            ...       ...  ...   \n",
              "5568                0.0  11637.0         8461.0         3176.0   32497.0  ...   \n",
              "5569                0.0    673.0          489.0          184.0    1469.0  ...   \n",
              "5570                0.0    799.0          638.0          161.0    1836.0  ...   \n",
              "5571               21.0  11886.0         7611.0         4275.0   30803.0  ...   \n",
              "5572                0.0   1026.0          800.0          226.0    2326.0  ...   \n",
              "\n",
              "      Pu_Bank   Pr_Assets    Pu_Assets    Cars  Motorcycles  Wheeled_tractor  \\\n",
              "0         NaN         NaN          NaN  2158.0       1246.0              0.0   \n",
              "1         NaN         NaN          NaN  2227.0       1142.0              0.0   \n",
              "2         1.0  33724584.0   67091904.0  2838.0       1426.0              0.0   \n",
              "3         2.0  44974716.0  371922572.0  6928.0       2953.0              0.0   \n",
              "4         4.0  76181384.0  800078483.0  5277.0      25661.0              0.0   \n",
              "...       ...         ...          ...     ...          ...              ...   \n",
              "5568      3.0  51944373.0  276223306.0  2125.0       5064.0              0.0   \n",
              "5569      NaN         NaN          NaN    87.0        162.0              0.0   \n",
              "5570      NaN         NaN          NaN   901.0        346.0              0.0   \n",
              "5571      3.0  34835818.0  531526331.0  1725.0      11087.0              0.0   \n",
              "5572      NaN         NaN          NaN  1077.0        359.0              0.0   \n",
              "\n",
              "      UBER  MAC  WAL-MART  POST_OFFICES  \n",
              "0      NaN  NaN       NaN           1.0  \n",
              "1      NaN  NaN       NaN           1.0  \n",
              "2      NaN  NaN       NaN           3.0  \n",
              "3      NaN  NaN       NaN           4.0  \n",
              "4      NaN  NaN       NaN           2.0  \n",
              "...    ...  ...       ...           ...  \n",
              "5568   NaN  NaN       NaN           2.0  \n",
              "5569   NaN  NaN       NaN           NaN  \n",
              "5570   NaN  NaN       NaN           1.0  \n",
              "5571   NaN  NaN       NaN           1.0  \n",
              "5572   NaN  NaN       NaN           1.0  \n",
              "\n",
              "[5573 rows x 81 columns]"
            ],
            "text/html": [
              "\n",
              "  <div id=\"df-017a99ce-9edb-4920-8f7f-a9280f4ae891\">\n",
              "    <div class=\"colab-df-container\">\n",
              "      <div>\n",
              "<style scoped>\n",
              "    .dataframe tbody tr th:only-of-type {\n",
              "        vertical-align: middle;\n",
              "    }\n",
              "\n",
              "    .dataframe tbody tr th {\n",
              "        vertical-align: top;\n",
              "    }\n",
              "\n",
              "    .dataframe thead th {\n",
              "        text-align: right;\n",
              "    }\n",
              "</style>\n",
              "<table border=\"1\" class=\"dataframe\">\n",
              "  <thead>\n",
              "    <tr style=\"text-align: right;\">\n",
              "      <th></th>\n",
              "      <th>CITY</th>\n",
              "      <th>STATE</th>\n",
              "      <th>CAPITAL</th>\n",
              "      <th>IBGE_RES_POP</th>\n",
              "      <th>IBGE_RES_POP_BRAS</th>\n",
              "      <th>IBGE_RES_POP_ESTR</th>\n",
              "      <th>IBGE_DU</th>\n",
              "      <th>IBGE_DU_URBAN</th>\n",
              "      <th>IBGE_DU_RURAL</th>\n",
              "      <th>IBGE_POP</th>\n",
              "      <th>...</th>\n",
              "      <th>Pu_Bank</th>\n",
              "      <th>Pr_Assets</th>\n",
              "      <th>Pu_Assets</th>\n",
              "      <th>Cars</th>\n",
              "      <th>Motorcycles</th>\n",
              "      <th>Wheeled_tractor</th>\n",
              "      <th>UBER</th>\n",
              "      <th>MAC</th>\n",
              "      <th>WAL-MART</th>\n",
              "      <th>POST_OFFICES</th>\n",
              "    </tr>\n",
              "  </thead>\n",
              "  <tbody>\n",
              "    <tr>\n",
              "      <th>0</th>\n",
              "      <td>Abadia De Goiás</td>\n",
              "      <td>GO</td>\n",
              "      <td>0</td>\n",
              "      <td>6876.0</td>\n",
              "      <td>6876.0</td>\n",
              "      <td>0.0</td>\n",
              "      <td>2137.0</td>\n",
              "      <td>1546.0</td>\n",
              "      <td>591.0</td>\n",
              "      <td>5300.0</td>\n",
              "      <td>...</td>\n",
              "      <td>NaN</td>\n",
              "      <td>NaN</td>\n",
              "      <td>NaN</td>\n",
              "      <td>2158.0</td>\n",
              "      <td>1246.0</td>\n",
              "      <td>0.0</td>\n",
              "      <td>NaN</td>\n",
              "      <td>NaN</td>\n",
              "      <td>NaN</td>\n",
              "      <td>1.0</td>\n",
              "    </tr>\n",
              "    <tr>\n",
              "      <th>1</th>\n",
              "      <td>Abadia Dos Dourados</td>\n",
              "      <td>MG</td>\n",
              "      <td>0</td>\n",
              "      <td>6704.0</td>\n",
              "      <td>6704.0</td>\n",
              "      <td>0.0</td>\n",
              "      <td>2328.0</td>\n",
              "      <td>1481.0</td>\n",
              "      <td>847.0</td>\n",
              "      <td>4154.0</td>\n",
              "      <td>...</td>\n",
              "      <td>NaN</td>\n",
              "      <td>NaN</td>\n",
              "      <td>NaN</td>\n",
              "      <td>2227.0</td>\n",
              "      <td>1142.0</td>\n",
              "      <td>0.0</td>\n",
              "      <td>NaN</td>\n",
              "      <td>NaN</td>\n",
              "      <td>NaN</td>\n",
              "      <td>1.0</td>\n",
              "    </tr>\n",
              "    <tr>\n",
              "      <th>2</th>\n",
              "      <td>Abadiânia</td>\n",
              "      <td>GO</td>\n",
              "      <td>0</td>\n",
              "      <td>15757.0</td>\n",
              "      <td>15609.0</td>\n",
              "      <td>148.0</td>\n",
              "      <td>4655.0</td>\n",
              "      <td>3233.0</td>\n",
              "      <td>1422.0</td>\n",
              "      <td>10656.0</td>\n",
              "      <td>...</td>\n",
              "      <td>1.0</td>\n",
              "      <td>33724584.0</td>\n",
              "      <td>67091904.0</td>\n",
              "      <td>2838.0</td>\n",
              "      <td>1426.0</td>\n",
              "      <td>0.0</td>\n",
              "      <td>NaN</td>\n",
              "      <td>NaN</td>\n",
              "      <td>NaN</td>\n",
              "      <td>3.0</td>\n",
              "    </tr>\n",
              "    <tr>\n",
              "      <th>3</th>\n",
              "      <td>Abaeté</td>\n",
              "      <td>MG</td>\n",
              "      <td>0</td>\n",
              "      <td>22690.0</td>\n",
              "      <td>22690.0</td>\n",
              "      <td>0.0</td>\n",
              "      <td>7694.0</td>\n",
              "      <td>6667.0</td>\n",
              "      <td>1027.0</td>\n",
              "      <td>18464.0</td>\n",
              "      <td>...</td>\n",
              "      <td>2.0</td>\n",
              "      <td>44974716.0</td>\n",
              "      <td>371922572.0</td>\n",
              "      <td>6928.0</td>\n",
              "      <td>2953.0</td>\n",
              "      <td>0.0</td>\n",
              "      <td>NaN</td>\n",
              "      <td>NaN</td>\n",
              "      <td>NaN</td>\n",
              "      <td>4.0</td>\n",
              "    </tr>\n",
              "    <tr>\n",
              "      <th>4</th>\n",
              "      <td>Abaetetuba</td>\n",
              "      <td>PA</td>\n",
              "      <td>0</td>\n",
              "      <td>141100.0</td>\n",
              "      <td>141040.0</td>\n",
              "      <td>60.0</td>\n",
              "      <td>31061.0</td>\n",
              "      <td>19057.0</td>\n",
              "      <td>12004.0</td>\n",
              "      <td>82956.0</td>\n",
              "      <td>...</td>\n",
              "      <td>4.0</td>\n",
              "      <td>76181384.0</td>\n",
              "      <td>800078483.0</td>\n",
              "      <td>5277.0</td>\n",
              "      <td>25661.0</td>\n",
              "      <td>0.0</td>\n",
              "      <td>NaN</td>\n",
              "      <td>NaN</td>\n",
              "      <td>NaN</td>\n",
              "      <td>2.0</td>\n",
              "    </tr>\n",
              "    <tr>\n",
              "      <th>...</th>\n",
              "      <td>...</td>\n",
              "      <td>...</td>\n",
              "      <td>...</td>\n",
              "      <td>...</td>\n",
              "      <td>...</td>\n",
              "      <td>...</td>\n",
              "      <td>...</td>\n",
              "      <td>...</td>\n",
              "      <td>...</td>\n",
              "      <td>...</td>\n",
              "      <td>...</td>\n",
              "      <td>...</td>\n",
              "      <td>...</td>\n",
              "      <td>...</td>\n",
              "      <td>...</td>\n",
              "      <td>...</td>\n",
              "      <td>...</td>\n",
              "      <td>...</td>\n",
              "      <td>...</td>\n",
              "      <td>...</td>\n",
              "      <td>...</td>\n",
              "    </tr>\n",
              "    <tr>\n",
              "      <th>5568</th>\n",
              "      <td>Xique-Xique</td>\n",
              "      <td>BA</td>\n",
              "      <td>0</td>\n",
              "      <td>45536.0</td>\n",
              "      <td>45536.0</td>\n",
              "      <td>0.0</td>\n",
              "      <td>11637.0</td>\n",
              "      <td>8461.0</td>\n",
              "      <td>3176.0</td>\n",
              "      <td>32497.0</td>\n",
              "      <td>...</td>\n",
              "      <td>3.0</td>\n",
              "      <td>51944373.0</td>\n",
              "      <td>276223306.0</td>\n",
              "      <td>2125.0</td>\n",
              "      <td>5064.0</td>\n",
              "      <td>0.0</td>\n",
              "      <td>NaN</td>\n",
              "      <td>NaN</td>\n",
              "      <td>NaN</td>\n",
              "      <td>2.0</td>\n",
              "    </tr>\n",
              "    <tr>\n",
              "      <th>5569</th>\n",
              "      <td>Zabelê</td>\n",
              "      <td>PB</td>\n",
              "      <td>0</td>\n",
              "      <td>2075.0</td>\n",
              "      <td>2075.0</td>\n",
              "      <td>0.0</td>\n",
              "      <td>673.0</td>\n",
              "      <td>489.0</td>\n",
              "      <td>184.0</td>\n",
              "      <td>1469.0</td>\n",
              "      <td>...</td>\n",
              "      <td>NaN</td>\n",
              "      <td>NaN</td>\n",
              "      <td>NaN</td>\n",
              "      <td>87.0</td>\n",
              "      <td>162.0</td>\n",
              "      <td>0.0</td>\n",
              "      <td>NaN</td>\n",
              "      <td>NaN</td>\n",
              "      <td>NaN</td>\n",
              "      <td>NaN</td>\n",
              "    </tr>\n",
              "    <tr>\n",
              "      <th>5570</th>\n",
              "      <td>Zacarias</td>\n",
              "      <td>SP</td>\n",
              "      <td>0</td>\n",
              "      <td>2335.0</td>\n",
              "      <td>2335.0</td>\n",
              "      <td>0.0</td>\n",
              "      <td>799.0</td>\n",
              "      <td>638.0</td>\n",
              "      <td>161.0</td>\n",
              "      <td>1836.0</td>\n",
              "      <td>...</td>\n",
              "      <td>NaN</td>\n",
              "      <td>NaN</td>\n",
              "      <td>NaN</td>\n",
              "      <td>901.0</td>\n",
              "      <td>346.0</td>\n",
              "      <td>0.0</td>\n",
              "      <td>NaN</td>\n",
              "      <td>NaN</td>\n",
              "      <td>NaN</td>\n",
              "      <td>1.0</td>\n",
              "    </tr>\n",
              "    <tr>\n",
              "      <th>5571</th>\n",
              "      <td>Zé Doca</td>\n",
              "      <td>MA</td>\n",
              "      <td>0</td>\n",
              "      <td>50173.0</td>\n",
              "      <td>50152.0</td>\n",
              "      <td>21.0</td>\n",
              "      <td>11886.0</td>\n",
              "      <td>7611.0</td>\n",
              "      <td>4275.0</td>\n",
              "      <td>30803.0</td>\n",
              "      <td>...</td>\n",
              "      <td>3.0</td>\n",
              "      <td>34835818.0</td>\n",
              "      <td>531526331.0</td>\n",
              "      <td>1725.0</td>\n",
              "      <td>11087.0</td>\n",
              "      <td>0.0</td>\n",
              "      <td>NaN</td>\n",
              "      <td>NaN</td>\n",
              "      <td>NaN</td>\n",
              "      <td>1.0</td>\n",
              "    </tr>\n",
              "    <tr>\n",
              "      <th>5572</th>\n",
              "      <td>Zortéa</td>\n",
              "      <td>SC</td>\n",
              "      <td>0</td>\n",
              "      <td>2991.0</td>\n",
              "      <td>2991.0</td>\n",
              "      <td>0.0</td>\n",
              "      <td>1026.0</td>\n",
              "      <td>800.0</td>\n",
              "      <td>226.0</td>\n",
              "      <td>2326.0</td>\n",
              "      <td>...</td>\n",
              "      <td>NaN</td>\n",
              "      <td>NaN</td>\n",
              "      <td>NaN</td>\n",
              "      <td>1077.0</td>\n",
              "      <td>359.0</td>\n",
              "      <td>0.0</td>\n",
              "      <td>NaN</td>\n",
              "      <td>NaN</td>\n",
              "      <td>NaN</td>\n",
              "      <td>1.0</td>\n",
              "    </tr>\n",
              "  </tbody>\n",
              "</table>\n",
              "<p>5573 rows × 81 columns</p>\n",
              "</div>\n",
              "      <button class=\"colab-df-convert\" onclick=\"convertToInteractive('df-017a99ce-9edb-4920-8f7f-a9280f4ae891')\"\n",
              "              title=\"Convert this dataframe to an interactive table.\"\n",
              "              style=\"display:none;\">\n",
              "        \n",
              "  <svg xmlns=\"http://www.w3.org/2000/svg\" height=\"24px\"viewBox=\"0 0 24 24\"\n",
              "       width=\"24px\">\n",
              "    <path d=\"M0 0h24v24H0V0z\" fill=\"none\"/>\n",
              "    <path d=\"M18.56 5.44l.94 2.06.94-2.06 2.06-.94-2.06-.94-.94-2.06-.94 2.06-2.06.94zm-11 1L8.5 8.5l.94-2.06 2.06-.94-2.06-.94L8.5 2.5l-.94 2.06-2.06.94zm10 10l.94 2.06.94-2.06 2.06-.94-2.06-.94-.94-2.06-.94 2.06-2.06.94z\"/><path d=\"M17.41 7.96l-1.37-1.37c-.4-.4-.92-.59-1.43-.59-.52 0-1.04.2-1.43.59L10.3 9.45l-7.72 7.72c-.78.78-.78 2.05 0 2.83L4 21.41c.39.39.9.59 1.41.59.51 0 1.02-.2 1.41-.59l7.78-7.78 2.81-2.81c.8-.78.8-2.07 0-2.86zM5.41 20L4 18.59l7.72-7.72 1.47 1.35L5.41 20z\"/>\n",
              "  </svg>\n",
              "      </button>\n",
              "      \n",
              "  <style>\n",
              "    .colab-df-container {\n",
              "      display:flex;\n",
              "      flex-wrap:wrap;\n",
              "      gap: 12px;\n",
              "    }\n",
              "\n",
              "    .colab-df-convert {\n",
              "      background-color: #E8F0FE;\n",
              "      border: none;\n",
              "      border-radius: 50%;\n",
              "      cursor: pointer;\n",
              "      display: none;\n",
              "      fill: #1967D2;\n",
              "      height: 32px;\n",
              "      padding: 0 0 0 0;\n",
              "      width: 32px;\n",
              "    }\n",
              "\n",
              "    .colab-df-convert:hover {\n",
              "      background-color: #E2EBFA;\n",
              "      box-shadow: 0px 1px 2px rgba(60, 64, 67, 0.3), 0px 1px 3px 1px rgba(60, 64, 67, 0.15);\n",
              "      fill: #174EA6;\n",
              "    }\n",
              "\n",
              "    [theme=dark] .colab-df-convert {\n",
              "      background-color: #3B4455;\n",
              "      fill: #D2E3FC;\n",
              "    }\n",
              "\n",
              "    [theme=dark] .colab-df-convert:hover {\n",
              "      background-color: #434B5C;\n",
              "      box-shadow: 0px 1px 3px 1px rgba(0, 0, 0, 0.15);\n",
              "      filter: drop-shadow(0px 1px 2px rgba(0, 0, 0, 0.3));\n",
              "      fill: #FFFFFF;\n",
              "    }\n",
              "  </style>\n",
              "\n",
              "      <script>\n",
              "        const buttonEl =\n",
              "          document.querySelector('#df-017a99ce-9edb-4920-8f7f-a9280f4ae891 button.colab-df-convert');\n",
              "        buttonEl.style.display =\n",
              "          google.colab.kernel.accessAllowed ? 'block' : 'none';\n",
              "\n",
              "        async function convertToInteractive(key) {\n",
              "          const element = document.querySelector('#df-017a99ce-9edb-4920-8f7f-a9280f4ae891');\n",
              "          const dataTable =\n",
              "            await google.colab.kernel.invokeFunction('convertToInteractive',\n",
              "                                                     [key], {});\n",
              "          if (!dataTable) return;\n",
              "\n",
              "          const docLinkHtml = 'Like what you see? Visit the ' +\n",
              "            '<a target=\"_blank\" href=https://colab.research.google.com/notebooks/data_table.ipynb>data table notebook</a>'\n",
              "            + ' to learn more about interactive tables.';\n",
              "          element.innerHTML = '';\n",
              "          dataTable['output_type'] = 'display_data';\n",
              "          await google.colab.output.renderOutput(dataTable, element);\n",
              "          const docLink = document.createElement('div');\n",
              "          docLink.innerHTML = docLinkHtml;\n",
              "          element.appendChild(docLink);\n",
              "        }\n",
              "      </script>\n",
              "    </div>\n",
              "  </div>\n",
              "  "
            ]
          },
          "metadata": {},
          "execution_count": 1142
        }
      ],
      "source": [
        "data = pd.read_csv('drive/MyDrive/Datasets/Brazilian_Cities/BRAZIL_CITIES.csv', sep=';')\n",
        "# data = pd.read_csv('BRAZIL_CITIES.csv', sep=';')          # caso o arquivo seja colocado diretamente no ambiente virtual do Colab\n",
        "data"
      ]
    },
    {
      "cell_type": "markdown",
      "source": [
        "O dataframe consiste em um conjunto de dados sobre as cidades do Brasil, incluindo a população, quantidade de empresas, área, população rual e urbana, IDH, PIB, e até mesmo o número de carros e motocicletas registrada na cidade. A maioria dos dados foram obtidos do censo do IBGE realizado em 2010.\n",
        "\n",
        "O objetivo desse trabalho, como já foi dito, é aplicar diversos algoritmos de classificação a fim de se classificar se uma cidade é capital ou não do Brasil."
      ],
      "metadata": {
        "id": "vDZ8jD9LBSiu"
      }
    },
    {
      "cell_type": "code",
      "execution_count": null,
      "metadata": {
        "colab": {
          "base_uri": "https://localhost:8080/"
        },
        "id": "-ehTiqz1k1oW",
        "outputId": "ce6124dc-e757-49e9-8a59-7509ebae00e6"
      },
      "outputs": [
        {
          "output_type": "execute_result",
          "data": {
            "text/plain": [
              "0    5546\n",
              "1      27\n",
              "Name: CAPITAL, dtype: int64"
            ]
          },
          "metadata": {},
          "execution_count": 1143
        }
      ],
      "source": [
        "data.CAPITAL.value_counts()"
      ]
    },
    {
      "cell_type": "markdown",
      "metadata": {
        "id": "sHMstfNbpMa1"
      },
      "source": [
        "# Pré-processamento de dados"
      ]
    },
    {
      "cell_type": "markdown",
      "metadata": {
        "id": "Cmjq7GOPm5h0"
      },
      "source": [
        "## Tratamento de dados faltantes\n",
        "\n",
        "A primeira coisa a ser feita é tratar os dados faltantes do dataset.\n"
      ]
    },
    {
      "cell_type": "markdown",
      "metadata": {
        "id": "yDaYK2X3m6gV"
      },
      "source": [
        "### Colunas com excesso de valores faltantes"
      ]
    },
    {
      "cell_type": "markdown",
      "metadata": {
        "id": "Tz2tZBgCxsDT"
      },
      "source": [
        "A primeira etapa a realizar é a retirada das colunas referentes a quantidade de Walmart, Uber, McDonald's, hotéis e quartos em hotéis das cidades, já que elas estão praticamente vazias e desatualizadas.\n",
        "\n",
        "Além disso, nota-se que as colunas relacionadas a turismo e a agências bancárias têm pouco mais da metade de seus valores faltando. Então pode-se considerar suas retiradas também.\n",
        "\n",
        "Por fim, ainda que haja uma quantidade considerável de dados sobre despesas municipais, comparado-a com as demais colunas, é visível que há muito menos valores a serem utilizados, por isso, pode-se considerar sua retirada.\n",
        "\n",
        "As demais colunas têm um porcentagem baixa de valores faltantes, então pode-se considerar alguma estratégia pra contornar esses tipos de valores."
      ]
    },
    {
      "cell_type": "code",
      "execution_count": null,
      "metadata": {
        "colab": {
          "base_uri": "https://localhost:8080/"
        },
        "id": "eK9-mr2OrK-F",
        "outputId": "39e38a08-c16f-4636-b8e8-15a40494672e"
      },
      "outputs": [
        {
          "output_type": "stream",
          "name": "stdout",
          "text": [
            "|                        |   NA_VALUES |   NA_VALUES_PERCENTAGE |\n",
            "|:-----------------------|------------:|-----------------------:|\n",
            "| WAL-MART               |        5471 |                  98.17 |\n",
            "| UBER                   |        5448 |                  97.76 |\n",
            "| MAC                    |        5407 |                  97.02 |\n",
            "| HOTELS                 |        4686 |                  84.08 |\n",
            "| BEDS                   |        4686 |                  84.08 |\n",
            "| REGIAO_TUR             |        2288 |                  41.06 |\n",
            "| CATEGORIA_TUR          |        2288 |                  41.06 |\n",
            "| Pu_Bank                |        2231 |                  40.03 |\n",
            "| Pu_Assets              |        2231 |                  40.03 |\n",
            "| Pr_Assets              |        2231 |                  40.03 |\n",
            "| Pr_Bank                |        2231 |                  40.03 |\n",
            "| Pu_Agencies            |        2231 |                  40.03 |\n",
            "| Pr_Agencies            |        2231 |                  40.03 |\n",
            "| MUN_EXPENDIT           |        1492 |                  26.77 |\n",
            "| POST_OFFICES           |         120 |                   2.15 |\n",
            "| IBGE_DU_RURAL          |          81 |                   1.45 |\n",
            "| Motorcycles            |          11 |                   0.2  |\n",
            "| Cars                   |          11 |                   0.2  |\n",
            "| Wheeled_tractor        |          11 |                   0.2  |\n",
            "| IBGE_DU_URBAN          |          10 |                   0.18 |\n",
            "| IBGE_DU                |          10 |                   0.18 |\n",
            "| LONG                   |           9 |                   0.16 |\n",
            "| LAT                    |           9 |                   0.16 |\n",
            "| ALT                    |           9 |                   0.16 |\n",
            "| IBGE_1-4               |           8 |                   0.14 |\n",
            "| IBGE_RES_POP           |           8 |                   0.14 |\n",
            "| IBGE_RES_POP_BRAS      |           8 |                   0.14 |\n",
            "| IBGE_RES_POP_ESTR      |           8 |                   0.14 |\n",
            "| IDHM_Renda             |           8 |                   0.14 |\n",
            "| IBGE_POP               |           8 |                   0.14 |\n",
            "| IBGE_1                 |           8 |                   0.14 |\n",
            "| IDHM                   |           8 |                   0.14 |\n",
            "| IBGE_5-9               |           8 |                   0.14 |\n",
            "| IBGE_15-59             |           8 |                   0.14 |\n",
            "| IBGE_60+               |           8 |                   0.14 |\n",
            "| IDHM Ranking 2010      |           8 |                   0.14 |\n",
            "| IDHM_Educacao          |           8 |                   0.14 |\n",
            "| IBGE_10-14             |           8 |                   0.14 |\n",
            "| IDHM_Longevidade       |           8 |                   0.14 |\n",
            "| COMP_P                 |           3 |                   0.05 |\n",
            "| COMP_K                 |           3 |                   0.05 |\n",
            "| COMP_L                 |           3 |                   0.05 |\n",
            "| COMP_M                 |           3 |                   0.05 |\n",
            "| COMP_N                 |           3 |                   0.05 |\n",
            "| COMP_O                 |           3 |                   0.05 |\n",
            "| COMP_R                 |           3 |                   0.05 |\n",
            "| COMP_Q                 |           3 |                   0.05 |\n",
            "| COMP_S                 |           3 |                   0.05 |\n",
            "| COMP_T                 |           3 |                   0.05 |\n",
            "| COMP_U                 |           3 |                   0.05 |\n",
            "| COMP_I                 |           3 |                   0.05 |\n",
            "| COMP_J                 |           3 |                   0.05 |\n",
            "| POP_GDP                |           3 |                   0.05 |\n",
            "| COMP_H                 |           3 |                   0.05 |\n",
            "| COMP_G                 |           3 |                   0.05 |\n",
            "| IBGE_PLANTED_AREA      |           3 |                   0.05 |\n",
            "| IBGE_CROP_PRODUCTION_$ |           3 |                   0.05 |\n",
            "| PAY_TV                 |           3 |                   0.05 |\n",
            "| FIXED_PHONES           |           3 |                   0.05 |\n",
            "| AREA                   |           3 |                   0.05 |\n",
            "| ESTIMATED_POP          |           3 |                   0.05 |\n",
            "| RURAL_URBAN            |           3 |                   0.05 |\n",
            "| GVA_AGROPEC            |           3 |                   0.05 |\n",
            "| GVA_INDUSTRY           |           3 |                   0.05 |\n",
            "| GVA_SERVICES           |           3 |                   0.05 |\n",
            "| GVA_PUBLIC             |           3 |                   0.05 |\n",
            "| GVA_TOTAL              |           3 |                   0.05 |\n",
            "| TAXES                  |           3 |                   0.05 |\n",
            "| GDP                    |           3 |                   0.05 |\n",
            "| GDP_CAPITA             |           3 |                   0.05 |\n",
            "| GVA_MAIN               |           3 |                   0.05 |\n",
            "| COMP_TOT               |           3 |                   0.05 |\n",
            "| COMP_A                 |           3 |                   0.05 |\n",
            "| COMP_B                 |           3 |                   0.05 |\n",
            "| COMP_C                 |           3 |                   0.05 |\n",
            "| COMP_D                 |           3 |                   0.05 |\n",
            "| COMP_E                 |           3 |                   0.05 |\n",
            "| COMP_F                 |           3 |                   0.05 |\n",
            "| STATE                  |           0 |                   0    |\n",
            "| CAPITAL                |           0 |                   0    |\n",
            "| CITY                   |           0 |                   0    |\n"
          ]
        }
      ],
      "source": [
        "na_values = pd.DataFrame(data={'NA_VALUES':data.isna().sum().sort_values(ascending=False)})\n",
        "na_values['NA_VALUES_PERCENTAGE'] = data.isna().mean().round(4).mul(100).sort_values(ascending=False)\n",
        "print(na_values.to_markdown())"
      ]
    },
    {
      "cell_type": "code",
      "execution_count": null,
      "metadata": {
        "id": "PH8wr9LeZi1n"
      },
      "outputs": [],
      "source": [
        "for row in na_values.index:\n",
        "  if na_values['NA_VALUES_PERCENTAGE'][row] > 20:\n",
        "    data = data.drop(columns=row)"
      ]
    },
    {
      "cell_type": "markdown",
      "source": [
        "### Colunas com poucos valores faltantes\n",
        "\n",
        "Para este caso, optou-se por substituir os valores faltantes da tabela com o valor da moda respectivo da coluna. A moda foi escolhida a fim de que o valor dos outliers não influenciassem a análise."
      ],
      "metadata": {
        "id": "gGJm5kjaCnFE"
      }
    },
    {
      "cell_type": "code",
      "source": [
        "data = data.fillna(data.mode().iloc[0])"
      ],
      "metadata": {
        "id": "lIBTs8SAeiI-"
      },
      "execution_count": null,
      "outputs": []
    },
    {
      "cell_type": "markdown",
      "source": [
        "## Tirando dados irrelevantes\n",
        "\n",
        "Outra coisa também que foi levada em consideração foi a relevância das colunas para classificação das capitais. Desse modo, algumas colunas foram tiradas do dataset, como as colunas de latitude, longitude, altura, número de moradores de acordo com os anos vivendo na cidade,  número de telefones fixos, e posição no ranking de HDH e da população pelo PIB (para não haver colunas duplicadas)."
      ],
      "metadata": {
        "id": "3dOcBvHtYj5R"
      }
    },
    {
      "cell_type": "code",
      "source": [
        "data = data.drop(['LAT', 'LONG', 'ALT', 'IBGE_1', 'IBGE_1-4', 'IBGE_5-9', 'IBGE_10-14', 'IBGE_15-59', 'IBGE_60+', 'IDHM Ranking 2010', 'FIXED_PHONES', 'POP_GDP'], axis=1)"
      ],
      "metadata": {
        "id": "52hHeKeEY1_V"
      },
      "execution_count": null,
      "outputs": []
    },
    {
      "cell_type": "markdown",
      "source": [
        "Assim sendo, o pré-processameno dos dados foi realizado e é possível iniciar a fase de Análise Exploratória."
      ],
      "metadata": {
        "id": "nQKyq9W2gJGj"
      }
    },
    {
      "cell_type": "code",
      "source": [
        "data.head()"
      ],
      "metadata": {
        "colab": {
          "base_uri": "https://localhost:8080/",
          "height": 351
        },
        "id": "RTZGF5ZHgLnm",
        "outputId": "2f7f7835-148c-49fc-caff-1326acdccd6d"
      },
      "execution_count": null,
      "outputs": [
        {
          "output_type": "execute_result",
          "data": {
            "text/plain": [
              "                  CITY STATE  CAPITAL  IBGE_RES_POP  IBGE_RES_POP_BRAS  \\\n",
              "0      Abadia De Goiás    GO        0        6876.0             6876.0   \n",
              "1  Abadia Dos Dourados    MG        0        6704.0             6704.0   \n",
              "2            Abadiânia    GO        0       15757.0            15609.0   \n",
              "3               Abaeté    MG        0       22690.0            22690.0   \n",
              "4           Abaetetuba    PA        0      141100.0           141040.0   \n",
              "\n",
              "   IBGE_RES_POP_ESTR  IBGE_DU  IBGE_DU_URBAN  IBGE_DU_RURAL  IBGE_POP  ...  \\\n",
              "0                0.0   2137.0         1546.0          591.0    5300.0  ...   \n",
              "1                0.0   2328.0         1481.0          847.0    4154.0  ...   \n",
              "2              148.0   4655.0         3233.0         1422.0   10656.0  ...   \n",
              "3                0.0   7694.0         6667.0         1027.0   18464.0  ...   \n",
              "4               60.0  31061.0        19057.0        12004.0   82956.0  ...   \n",
              "\n",
              "   COMP_P  COMP_Q  COMP_R  COMP_S  COMP_T  COMP_U    Cars Motorcycles  \\\n",
              "0     6.0     6.0     1.0     5.0     0.0     0.0  2158.0      1246.0   \n",
              "1     9.0    14.0     6.0    19.0     0.0     0.0  2227.0      1142.0   \n",
              "2    11.0     5.0     1.0     8.0     0.0     0.0  2838.0      1426.0   \n",
              "3    15.0    19.0     9.0    27.0     0.0     0.0  6928.0      2953.0   \n",
              "4   155.0    33.0    15.0    56.0     0.0     0.0  5277.0     25661.0   \n",
              "\n",
              "   Wheeled_tractor POST_OFFICES  \n",
              "0              0.0          1.0  \n",
              "1              0.0          1.0  \n",
              "2              0.0          3.0  \n",
              "3              0.0          4.0  \n",
              "4              0.0          2.0  \n",
              "\n",
              "[5 rows x 55 columns]"
            ],
            "text/html": [
              "\n",
              "  <div id=\"df-514cc162-1a79-414c-8f05-ccd00e621960\">\n",
              "    <div class=\"colab-df-container\">\n",
              "      <div>\n",
              "<style scoped>\n",
              "    .dataframe tbody tr th:only-of-type {\n",
              "        vertical-align: middle;\n",
              "    }\n",
              "\n",
              "    .dataframe tbody tr th {\n",
              "        vertical-align: top;\n",
              "    }\n",
              "\n",
              "    .dataframe thead th {\n",
              "        text-align: right;\n",
              "    }\n",
              "</style>\n",
              "<table border=\"1\" class=\"dataframe\">\n",
              "  <thead>\n",
              "    <tr style=\"text-align: right;\">\n",
              "      <th></th>\n",
              "      <th>CITY</th>\n",
              "      <th>STATE</th>\n",
              "      <th>CAPITAL</th>\n",
              "      <th>IBGE_RES_POP</th>\n",
              "      <th>IBGE_RES_POP_BRAS</th>\n",
              "      <th>IBGE_RES_POP_ESTR</th>\n",
              "      <th>IBGE_DU</th>\n",
              "      <th>IBGE_DU_URBAN</th>\n",
              "      <th>IBGE_DU_RURAL</th>\n",
              "      <th>IBGE_POP</th>\n",
              "      <th>...</th>\n",
              "      <th>COMP_P</th>\n",
              "      <th>COMP_Q</th>\n",
              "      <th>COMP_R</th>\n",
              "      <th>COMP_S</th>\n",
              "      <th>COMP_T</th>\n",
              "      <th>COMP_U</th>\n",
              "      <th>Cars</th>\n",
              "      <th>Motorcycles</th>\n",
              "      <th>Wheeled_tractor</th>\n",
              "      <th>POST_OFFICES</th>\n",
              "    </tr>\n",
              "  </thead>\n",
              "  <tbody>\n",
              "    <tr>\n",
              "      <th>0</th>\n",
              "      <td>Abadia De Goiás</td>\n",
              "      <td>GO</td>\n",
              "      <td>0</td>\n",
              "      <td>6876.0</td>\n",
              "      <td>6876.0</td>\n",
              "      <td>0.0</td>\n",
              "      <td>2137.0</td>\n",
              "      <td>1546.0</td>\n",
              "      <td>591.0</td>\n",
              "      <td>5300.0</td>\n",
              "      <td>...</td>\n",
              "      <td>6.0</td>\n",
              "      <td>6.0</td>\n",
              "      <td>1.0</td>\n",
              "      <td>5.0</td>\n",
              "      <td>0.0</td>\n",
              "      <td>0.0</td>\n",
              "      <td>2158.0</td>\n",
              "      <td>1246.0</td>\n",
              "      <td>0.0</td>\n",
              "      <td>1.0</td>\n",
              "    </tr>\n",
              "    <tr>\n",
              "      <th>1</th>\n",
              "      <td>Abadia Dos Dourados</td>\n",
              "      <td>MG</td>\n",
              "      <td>0</td>\n",
              "      <td>6704.0</td>\n",
              "      <td>6704.0</td>\n",
              "      <td>0.0</td>\n",
              "      <td>2328.0</td>\n",
              "      <td>1481.0</td>\n",
              "      <td>847.0</td>\n",
              "      <td>4154.0</td>\n",
              "      <td>...</td>\n",
              "      <td>9.0</td>\n",
              "      <td>14.0</td>\n",
              "      <td>6.0</td>\n",
              "      <td>19.0</td>\n",
              "      <td>0.0</td>\n",
              "      <td>0.0</td>\n",
              "      <td>2227.0</td>\n",
              "      <td>1142.0</td>\n",
              "      <td>0.0</td>\n",
              "      <td>1.0</td>\n",
              "    </tr>\n",
              "    <tr>\n",
              "      <th>2</th>\n",
              "      <td>Abadiânia</td>\n",
              "      <td>GO</td>\n",
              "      <td>0</td>\n",
              "      <td>15757.0</td>\n",
              "      <td>15609.0</td>\n",
              "      <td>148.0</td>\n",
              "      <td>4655.0</td>\n",
              "      <td>3233.0</td>\n",
              "      <td>1422.0</td>\n",
              "      <td>10656.0</td>\n",
              "      <td>...</td>\n",
              "      <td>11.0</td>\n",
              "      <td>5.0</td>\n",
              "      <td>1.0</td>\n",
              "      <td>8.0</td>\n",
              "      <td>0.0</td>\n",
              "      <td>0.0</td>\n",
              "      <td>2838.0</td>\n",
              "      <td>1426.0</td>\n",
              "      <td>0.0</td>\n",
              "      <td>3.0</td>\n",
              "    </tr>\n",
              "    <tr>\n",
              "      <th>3</th>\n",
              "      <td>Abaeté</td>\n",
              "      <td>MG</td>\n",
              "      <td>0</td>\n",
              "      <td>22690.0</td>\n",
              "      <td>22690.0</td>\n",
              "      <td>0.0</td>\n",
              "      <td>7694.0</td>\n",
              "      <td>6667.0</td>\n",
              "      <td>1027.0</td>\n",
              "      <td>18464.0</td>\n",
              "      <td>...</td>\n",
              "      <td>15.0</td>\n",
              "      <td>19.0</td>\n",
              "      <td>9.0</td>\n",
              "      <td>27.0</td>\n",
              "      <td>0.0</td>\n",
              "      <td>0.0</td>\n",
              "      <td>6928.0</td>\n",
              "      <td>2953.0</td>\n",
              "      <td>0.0</td>\n",
              "      <td>4.0</td>\n",
              "    </tr>\n",
              "    <tr>\n",
              "      <th>4</th>\n",
              "      <td>Abaetetuba</td>\n",
              "      <td>PA</td>\n",
              "      <td>0</td>\n",
              "      <td>141100.0</td>\n",
              "      <td>141040.0</td>\n",
              "      <td>60.0</td>\n",
              "      <td>31061.0</td>\n",
              "      <td>19057.0</td>\n",
              "      <td>12004.0</td>\n",
              "      <td>82956.0</td>\n",
              "      <td>...</td>\n",
              "      <td>155.0</td>\n",
              "      <td>33.0</td>\n",
              "      <td>15.0</td>\n",
              "      <td>56.0</td>\n",
              "      <td>0.0</td>\n",
              "      <td>0.0</td>\n",
              "      <td>5277.0</td>\n",
              "      <td>25661.0</td>\n",
              "      <td>0.0</td>\n",
              "      <td>2.0</td>\n",
              "    </tr>\n",
              "  </tbody>\n",
              "</table>\n",
              "<p>5 rows × 55 columns</p>\n",
              "</div>\n",
              "      <button class=\"colab-df-convert\" onclick=\"convertToInteractive('df-514cc162-1a79-414c-8f05-ccd00e621960')\"\n",
              "              title=\"Convert this dataframe to an interactive table.\"\n",
              "              style=\"display:none;\">\n",
              "        \n",
              "  <svg xmlns=\"http://www.w3.org/2000/svg\" height=\"24px\"viewBox=\"0 0 24 24\"\n",
              "       width=\"24px\">\n",
              "    <path d=\"M0 0h24v24H0V0z\" fill=\"none\"/>\n",
              "    <path d=\"M18.56 5.44l.94 2.06.94-2.06 2.06-.94-2.06-.94-.94-2.06-.94 2.06-2.06.94zm-11 1L8.5 8.5l.94-2.06 2.06-.94-2.06-.94L8.5 2.5l-.94 2.06-2.06.94zm10 10l.94 2.06.94-2.06 2.06-.94-2.06-.94-.94-2.06-.94 2.06-2.06.94z\"/><path d=\"M17.41 7.96l-1.37-1.37c-.4-.4-.92-.59-1.43-.59-.52 0-1.04.2-1.43.59L10.3 9.45l-7.72 7.72c-.78.78-.78 2.05 0 2.83L4 21.41c.39.39.9.59 1.41.59.51 0 1.02-.2 1.41-.59l7.78-7.78 2.81-2.81c.8-.78.8-2.07 0-2.86zM5.41 20L4 18.59l7.72-7.72 1.47 1.35L5.41 20z\"/>\n",
              "  </svg>\n",
              "      </button>\n",
              "      \n",
              "  <style>\n",
              "    .colab-df-container {\n",
              "      display:flex;\n",
              "      flex-wrap:wrap;\n",
              "      gap: 12px;\n",
              "    }\n",
              "\n",
              "    .colab-df-convert {\n",
              "      background-color: #E8F0FE;\n",
              "      border: none;\n",
              "      border-radius: 50%;\n",
              "      cursor: pointer;\n",
              "      display: none;\n",
              "      fill: #1967D2;\n",
              "      height: 32px;\n",
              "      padding: 0 0 0 0;\n",
              "      width: 32px;\n",
              "    }\n",
              "\n",
              "    .colab-df-convert:hover {\n",
              "      background-color: #E2EBFA;\n",
              "      box-shadow: 0px 1px 2px rgba(60, 64, 67, 0.3), 0px 1px 3px 1px rgba(60, 64, 67, 0.15);\n",
              "      fill: #174EA6;\n",
              "    }\n",
              "\n",
              "    [theme=dark] .colab-df-convert {\n",
              "      background-color: #3B4455;\n",
              "      fill: #D2E3FC;\n",
              "    }\n",
              "\n",
              "    [theme=dark] .colab-df-convert:hover {\n",
              "      background-color: #434B5C;\n",
              "      box-shadow: 0px 1px 3px 1px rgba(0, 0, 0, 0.15);\n",
              "      filter: drop-shadow(0px 1px 2px rgba(0, 0, 0, 0.3));\n",
              "      fill: #FFFFFF;\n",
              "    }\n",
              "  </style>\n",
              "\n",
              "      <script>\n",
              "        const buttonEl =\n",
              "          document.querySelector('#df-514cc162-1a79-414c-8f05-ccd00e621960 button.colab-df-convert');\n",
              "        buttonEl.style.display =\n",
              "          google.colab.kernel.accessAllowed ? 'block' : 'none';\n",
              "\n",
              "        async function convertToInteractive(key) {\n",
              "          const element = document.querySelector('#df-514cc162-1a79-414c-8f05-ccd00e621960');\n",
              "          const dataTable =\n",
              "            await google.colab.kernel.invokeFunction('convertToInteractive',\n",
              "                                                     [key], {});\n",
              "          if (!dataTable) return;\n",
              "\n",
              "          const docLinkHtml = 'Like what you see? Visit the ' +\n",
              "            '<a target=\"_blank\" href=https://colab.research.google.com/notebooks/data_table.ipynb>data table notebook</a>'\n",
              "            + ' to learn more about interactive tables.';\n",
              "          element.innerHTML = '';\n",
              "          dataTable['output_type'] = 'display_data';\n",
              "          await google.colab.output.renderOutput(dataTable, element);\n",
              "          const docLink = document.createElement('div');\n",
              "          docLink.innerHTML = docLinkHtml;\n",
              "          element.appendChild(docLink);\n",
              "        }\n",
              "      </script>\n",
              "    </div>\n",
              "  </div>\n",
              "  "
            ]
          },
          "metadata": {},
          "execution_count": 1148
        }
      ]
    },
    {
      "cell_type": "markdown",
      "metadata": {
        "id": "Y208lnL2VZbT"
      },
      "source": [
        "# Análise exploratória de dados\n",
        "\n",
        "Esta seção consiste em fazer a análise do dataframe a fim de que se possa entender um pouco mais dos dados.\n",
        "\n",
        "Primeiro, vamos ver qual é a quantidade de capitais presentes no dataset"
      ]
    },
    {
      "cell_type": "code",
      "execution_count": null,
      "metadata": {
        "colab": {
          "base_uri": "https://localhost:8080/"
        },
        "id": "ASXMDdM4YOI3",
        "outputId": "83dab34f-787f-4716-aa69-1e310aefa758"
      },
      "outputs": [
        {
          "output_type": "stream",
          "name": "stdout",
          "text": [
            "Apenas 0.0048% das cidades são capitais.\n",
            "Isto é, 27 dentre as 5573 cidades.\n"
          ]
        }
      ],
      "source": [
        "count_non_copitas = data[data['CAPITAL'] == 0].shape[0]\n",
        "count_capitals = data[data['CAPITAL'] == 1].shape[0]\n",
        "count_capitals_percentage = round(count_capitals / (count_capitals + count_non_copitas), 4)\n",
        "print(f'Apenas {count_capitals_percentage}% das cidades são capitais.')\n",
        "print(f'Isto é, {count_capitals} dentre as {count_capitals + count_non_copitas} cidades.')"
      ]
    },
    {
      "cell_type": "code",
      "execution_count": null,
      "metadata": {
        "colab": {
          "base_uri": "https://localhost:8080/"
        },
        "id": "W0_JDROAhgXh",
        "outputId": "92b54d24-34f9-4d6a-f28a-c2a242e9859e"
      },
      "outputs": [
        {
          "output_type": "stream",
          "name": "stdout",
          "text": [
            "No dataset original, há um total de 45670 valores faltantes.\n"
          ]
        }
      ],
      "source": [
        "print(f'No dataset original, há um total de {na_values[\"NA_VALUES\"].sum()} valores faltantes.')"
      ]
    },
    {
      "cell_type": "markdown",
      "metadata": {
        "id": "9K-hZrphW4M1"
      },
      "source": [
        "Não há cidades de estados diferentes com o mesmo nome."
      ]
    },
    {
      "cell_type": "code",
      "execution_count": null,
      "metadata": {
        "colab": {
          "base_uri": "https://localhost:8080/"
        },
        "id": "_HVJcyyPLN60",
        "outputId": "7f4f427d-a2ad-47f1-f233-b910b88874ed"
      },
      "outputs": [
        {
          "output_type": "stream",
          "name": "stdout",
          "text": [
            "| CITY   | STATE   | CAPITAL   | IBGE_RES_POP   | IBGE_RES_POP_BRAS   | IBGE_RES_POP_ESTR   | IBGE_DU   | IBGE_DU_URBAN   | IBGE_DU_RURAL   | IBGE_POP   | IBGE_PLANTED_AREA   | IBGE_CROP_PRODUCTION_$   | IDHM   | IDHM_Renda   | IDHM_Longevidade   | IDHM_Educacao   | PAY_TV   | AREA   | ESTIMATED_POP   | RURAL_URBAN   | GVA_AGROPEC   | GVA_INDUSTRY   | GVA_SERVICES   | GVA_PUBLIC   |  GVA_TOTAL    | TAXES   | GDP   | GDP_CAPITA   | GVA_MAIN   | COMP_TOT   | COMP_A   | COMP_B   | COMP_C   | COMP_D   | COMP_E   | COMP_F   | COMP_G   | COMP_H   | COMP_I   | COMP_J   | COMP_K   | COMP_L   | COMP_M   | COMP_N   | COMP_O   | COMP_P   | COMP_Q   | COMP_R   | COMP_S   | COMP_T   | COMP_U   | Cars   | Motorcycles   | Wheeled_tractor   | POST_OFFICES   |\n",
            "|--------|---------|-----------|----------------|---------------------|---------------------|-----------|-----------------|-----------------|------------|---------------------|--------------------------|--------|--------------|--------------------|-----------------|----------|--------|-----------------|---------------|---------------|----------------|----------------|--------------|---------------|---------|-------|--------------|------------|------------|----------|----------|----------|----------|----------|----------|----------|----------|----------|----------|----------|----------|----------|----------|----------|----------|----------|----------|----------|----------|----------|--------|---------------|-------------------|----------------|\n"
          ]
        }
      ],
      "source": [
        "print(data[data[['CITY', 'STATE']].duplicated()].to_markdown())"
      ]
    },
    {
      "cell_type": "markdown",
      "source": [
        "Uma matriz de correlação foi gerada a fim de se analisar se os dados apresentavam alta ou baixa correlação entre si."
      ],
      "metadata": {
        "id": "6El8n15ON9Y-"
      }
    },
    {
      "cell_type": "code",
      "execution_count": null,
      "metadata": {
        "colab": {
          "base_uri": "https://localhost:8080/",
          "height": 526
        },
        "id": "tIcIBtm9U8Pl",
        "outputId": "813ddffd-979a-408c-ae28-ae6c7746f2c2"
      },
      "outputs": [
        {
          "output_type": "stream",
          "name": "stderr",
          "text": [
            "<ipython-input-1152-76913f52a6cc>:3: FutureWarning:\n",
            "\n",
            "The default value of numeric_only in DataFrame.corr is deprecated. In a future version, it will default to False. Select only valid columns or specify the value of numeric_only to silence this warning.\n",
            "\n"
          ]
        },
        {
          "output_type": "display_data",
          "data": {
            "text/plain": [
              "<Figure size 480x480 with 1 Axes>"
            ],
            "image/png": "[encoded data removed]"
          },
          "metadata": {}
        }
      ],
      "source": [
        "import matplotlib.pyplot as plt\n",
        "\n",
        "plt.matshow(data.corr())\n",
        "plt.show()"
      ]
    },
    {
      "cell_type": "markdown",
      "source": [
        "Pode-se ver a matriz expandida"
      ],
      "metadata": {
        "id": "bGc66KhNOFi6"
      }
    },
    {
      "cell_type": "code",
      "execution_count": null,
      "metadata": {
        "colab": {
          "base_uri": "https://localhost:8080/",
          "height": 1000
        },
        "id": "LyHsIJKdWef3",
        "outputId": "e5b6076f-28ac-4ef8-ba7e-9a77309c2314"
      },
      "outputs": [
        {
          "output_type": "stream",
          "name": "stderr",
          "text": [
            "<ipython-input-1153-94341d4cbf0c>:2: FutureWarning:\n",
            "\n",
            "The default value of numeric_only in DataFrame.corr is deprecated. In a future version, it will default to False. Select only valid columns or specify the value of numeric_only to silence this warning.\n",
            "\n"
          ]
        },
        {
          "output_type": "display_data",
          "data": {
            "text/plain": [
              "<Figure size 3000x3000 with 2 Axes>"
            ],
            "image/png": "[encoded data removed]"
          },
          "metadata": {}
        }
      ],
      "source": [
        "f = plt.figure(figsize=(30, 30))\n",
        "plt.matshow(data.corr(), fignum=f.number)\n",
        "plt.xticks(range(data.select_dtypes(['number']).shape[1]), data.select_dtypes(['number']).columns, fontsize=14, rotation=45)\n",
        "plt.yticks(range(data.select_dtypes(['number']).shape[1]), data.select_dtypes(['number']).columns, fontsize=14)\n",
        "cb = plt.colorbar()\n",
        "cb.ax.tick_params(labelsize=14)\n",
        "plt.title('Correlation Matrix', fontsize=16);"
      ]
    },
    {
      "cell_type": "markdown",
      "source": [
        "#### Gráficos"
      ],
      "metadata": {
        "id": "4orw5bcqOOT3"
      }
    },
    {
      "cell_type": "code",
      "source": [
        "data.groupby(['STATE'])['CITY'].count().plot(kind = 'pie')"
      ],
      "metadata": {
        "colab": {
          "base_uri": "https://localhost:8080/",
          "height": 423
        },
        "id": "1lFXwBI4H708",
        "outputId": "96aeb23a-800f-4be7-b0cd-87f33e1f43cd"
      },
      "execution_count": null,
      "outputs": [
        {
          "output_type": "execute_result",
          "data": {
            "text/plain": [
              "<Axes: ylabel='CITY'>"
            ]
          },
          "metadata": {},
          "execution_count": 1154
        },
        {
          "output_type": "display_data",
          "data": {
            "text/plain": [
              "<Figure size 640x480 with 1 Axes>"
            ],
            "image/png": "[encoded data removed]"
          },
          "metadata": {}
        }
      ]
    },
    {
      "cell_type": "code",
      "source": [
        "data.groupby(['STATE'])['CITY'].count().sort_values(ascending=False).head(5).plot(kind = 'pie')"
      ],
      "metadata": {
        "colab": {
          "base_uri": "https://localhost:8080/",
          "height": 423
        },
        "id": "lDkYnjeIJwFs",
        "outputId": "4d1a2c95-84d9-492a-b187-c0845e5caa14"
      },
      "execution_count": null,
      "outputs": [
        {
          "output_type": "execute_result",
          "data": {
            "text/plain": [
              "<Axes: ylabel='CITY'>"
            ]
          },
          "metadata": {},
          "execution_count": 1155
        },
        {
          "output_type": "display_data",
          "data": {
            "text/plain": [
              "<Figure size 640x480 with 1 Axes>"
            ],
            "image/png": "[encoded data removed]"
          },
          "metadata": {}
        }
      ]
    },
    {
      "cell_type": "markdown",
      "source": [
        "Obtendo o índice médio de IDH por estado."
      ],
      "metadata": {
        "id": "1MmnGWMeOSPu"
      }
    },
    {
      "cell_type": "code",
      "source": [
        "data.groupby(['STATE'])['IDHM'].mean().sort_values(ascending=False).plot.bar()"
      ],
      "metadata": {
        "colab": {
          "base_uri": "https://localhost:8080/",
          "height": 475
        },
        "outputId": "03f5b627-f337-4c74-a4ff-112f992cb2b5",
        "id": "NqMriS8sLsB1"
      },
      "execution_count": null,
      "outputs": [
        {
          "output_type": "execute_result",
          "data": {
            "text/plain": [
              "<Axes: xlabel='STATE'>"
            ]
          },
          "metadata": {},
          "execution_count": 1156
        },
        {
          "output_type": "display_data",
          "data": {
            "text/plain": [
              "<Figure size 640x480 with 1 Axes>"
            ],
            "image/png": "[encoded data removed]"
          },
          "metadata": {}
        }
      ]
    },
    {
      "cell_type": "code",
      "source": [
        "data.groupby(['STATE'])['IDHM'].mean().sort_values(ascending=False).head(5).plot.bar()"
      ],
      "metadata": {
        "colab": {
          "base_uri": "https://localhost:8080/",
          "height": 471
        },
        "outputId": "dea8104e-3159-4292-c465-9cff94b8ce51",
        "id": "OIrACi-oLsB8"
      },
      "execution_count": null,
      "outputs": [
        {
          "output_type": "execute_result",
          "data": {
            "text/plain": [
              "<Axes: xlabel='STATE'>"
            ]
          },
          "metadata": {},
          "execution_count": 1157
        },
        {
          "output_type": "display_data",
          "data": {
            "text/plain": [
              "<Figure size 640x480 with 1 Axes>"
            ],
            "image/png": "[encoded data removed]"
          },
          "metadata": {}
        }
      ]
    },
    {
      "cell_type": "markdown",
      "source": [
        "Obtendo a quantidade de carros totais por estado. É possível observar que esse não é um fator importante para a decisão da capital, visto que o gráfico apresenta um fator muito heretogêneo por estado."
      ],
      "metadata": {
        "id": "CgG9haBpO_xF"
      }
    },
    {
      "cell_type": "code",
      "source": [
        "data.groupby(['STATE'])['Cars'].sum().sort_values(ascending=False).plot.bar()"
      ],
      "metadata": {
        "colab": {
          "base_uri": "https://localhost:8080/",
          "height": 490
        },
        "id": "z1OANR9nLTY3",
        "outputId": "389f544f-1f8e-4e5f-cc43-93fd9a5dc0c0"
      },
      "execution_count": null,
      "outputs": [
        {
          "output_type": "execute_result",
          "data": {
            "text/plain": [
              "<Axes: xlabel='STATE'>"
            ]
          },
          "metadata": {},
          "execution_count": 1158
        },
        {
          "output_type": "display_data",
          "data": {
            "text/plain": [
              "<Figure size 640x480 with 1 Axes>"
            ],
            "image/png": "[encoded data removed]"
          },
          "metadata": {}
        }
      ]
    },
    {
      "cell_type": "code",
      "source": [
        "data.groupby(['STATE'])['Cars'].sum().sort_values(ascending=False).head(5).plot.bar()"
      ],
      "metadata": {
        "colab": {
          "base_uri": "https://localhost:8080/",
          "height": 490
        },
        "id": "RkmgAL18LadF",
        "outputId": "4221944d-2f50-4eb6-8258-1d828591c32f"
      },
      "execution_count": null,
      "outputs": [
        {
          "output_type": "execute_result",
          "data": {
            "text/plain": [
              "<Axes: xlabel='STATE'>"
            ]
          },
          "metadata": {},
          "execution_count": 1159
        },
        {
          "output_type": "display_data",
          "data": {
            "text/plain": [
              "<Figure size 640x480 with 1 Axes>"
            ],
            "image/png": "[encoded data removed]"
          },
          "metadata": {}
        }
      ]
    },
    {
      "cell_type": "markdown",
      "source": [
        "# Implementação de algoritmos de classificação\n",
        "\n",
        "Nessa etapa, foi-se realizado a classificação dos algoritmos. A divisão se consistiu em cinco algoritmos:\n",
        "\n",
        "- 1) Algoritmo de Naive Bayes: supõe que os atributos são independentes entre si, calculando a probabilidade de cada atributo ocorrer para cada classe alvo durante o treinamento. Foi escolhida a sua distribuição gaussiana devido ao dataset ser formado por valores contínuos.\n",
        "\n",
        "- 2) Árvore de Decisão: cria vários critérios para decidir em qual caso a label vai ser definida como capital e em qual não vai. utilizou-se a medida de Gini para a análise, devido ao grande número de atributos do dataset.\n",
        "\n",
        "- 3) Perceptron: sua escolha é positiva por ser ideal para gerar labels binárias. Além disso, os atributos utilizados são todos numéricos, o que torna esse algoritmo uma boa escolha.\n",
        "\n",
        "- 4) SVM (Support Vector Manchine): busca uma linha de separação entre duas classes distintas por meio da análise dos dois pontos (um de cada classe) mais próximos um do outro.\n",
        "\n",
        "- 5) k-Nearest Neighbors (k-NN):  modelo simples baseado em similaridade, dado um conjunto de exemplos rotulados (pares entrada e saída), uma nova entrada é comparada com os pares presentes no modelo e uma saída é produzida baseando-se naqueles mais próximos desta entrada.\n",
        "\n",
        "Para prosseguir a análise, vamos fazer a normalização dos dados."
      ],
      "metadata": {
        "id": "Hl1pEuYoFNmC"
      }
    },
    {
      "cell_type": "code",
      "source": [
        "# colocando a coluna de previsão como última do dataset\n",
        "labels = data.pop('CAPITAL')\n",
        "data.insert(len(data.columns), 'CAPITAL', labels)\n",
        "\n",
        "# Excluindo valores que não são numéricos\n",
        "data_predicao = data.select_dtypes(exclude='object')\n",
        "\n",
        "# Fazendo a normalização/parametrização dos dados\n",
        "min_max_scaler = preprocessing.MinMaxScaler()\n",
        "data_escalada = min_max_scaler.fit_transform(data_predicao.values)\n",
        "data_predicao = pd.DataFrame(data_escalada, columns=data_predicao.columns)"
      ],
      "metadata": {
        "id": "ehbBm3-wGfKU"
      },
      "execution_count": null,
      "outputs": []
    },
    {
      "cell_type": "markdown",
      "source": [
        "A seguir, está a implementação feita para cada um e os resultados obtidos a partir de tal análise."
      ],
      "metadata": {
        "id": "1ZaMc-H1GjMb"
      }
    },
    {
      "cell_type": "markdown",
      "metadata": {
        "id": "FivTLeV8uNUB"
      },
      "source": [
        "## Algoritmo 1: Naive Bayes com distribuição Gaussiana"
      ]
    },
    {
      "cell_type": "code",
      "execution_count": null,
      "metadata": {
        "colab": {
          "base_uri": "https://localhost:8080/"
        },
        "id": "c963xw8Due0f",
        "outputId": "0fe4219b-05f8-4e98-e495-ea2f65759897"
      },
      "outputs": [
        {
          "output_type": "stream",
          "name": "stderr",
          "text": [
            "/usr/local/lib/python3.10/dist-packages/sklearn/utils/validation.py:1143: DataConversionWarning:\n",
            "\n",
            "A column-vector y was passed when a 1d array was expected. Please change the shape of y to (n_samples, ), for example using ravel().\n",
            "\n"
          ]
        }
      ],
      "source": [
        "# Importa o método de Naïve Bayes com distribuição Gaussiana do Sklearn\n",
        "from sklearn.naive_bayes import GaussianNB\n",
        "\n",
        "# Divizão dos dados em teino e teste\n",
        "X_train, X_test, y_train, y_test = train_test_split(data_predicao.iloc[:, :-1], data_predicao.iloc[:, -1:], test_size=0.30)\n",
        "\n",
        "# Criação de uma instância de classe\n",
        "GNB = GaussianNB()\n",
        "GNB = GNB.fit(X_train, y_train)\n",
        "\n",
        "# Classe predita\n",
        "y_predito = GNB.predict(X_test)\n",
        "\n"
      ]
    },
    {
      "cell_type": "code",
      "execution_count": null,
      "metadata": {
        "colab": {
          "base_uri": "https://localhost:8080/"
        },
        "id": "UNeMJvvpvErw",
        "outputId": "09e2b1fa-f378-46b9-c4cd-ff6fe3cdf40d"
      },
      "outputs": [
        {
          "output_type": "stream",
          "name": "stdout",
          "text": [
            "Análise de desempenho do algoritmo:\n",
            "Acurácia: 98.09%\n",
            "Precisão: 25.58%\n",
            "Recall: 100.0%\n",
            "F1-Score: 40.74%\n"
          ]
        }
      ],
      "source": [
        "print('Análise de desempenho do algoritmo:')\n",
        "\n",
        "print(f'Acurácia: {round(metrics.accuracy_score(y_test, y_predito)*100, 2)}%')\n",
        "print(f'Precisão: {round(metrics.precision_score(y_test, y_predito)*100, 2)}%')\n",
        "print(f'Recall: {round(metrics.recall_score(y_test, y_predito)*100, 2)}%')\n",
        "print(f'F1-Score: {round(metrics.f1_score(y_test, y_predito)*100, 2)}%')"
      ]
    },
    {
      "cell_type": "markdown",
      "metadata": {
        "id": "ttEv3j2nwpI7"
      },
      "source": [
        "Segundo o algoritmo, as capitais dos paises são:"
      ]
    },
    {
      "cell_type": "code",
      "execution_count": null,
      "metadata": {
        "colab": {
          "base_uri": "https://localhost:8080/",
          "height": 1000
        },
        "id": "nbvVI2YUwfpr",
        "outputId": "05b1c7bc-1512-418a-95ff-3727cd9913c8"
      },
      "outputs": [
        {
          "output_type": "stream",
          "name": "stdout",
          "text": [
            "Número de cidades alocadas como capitais: 43\n",
            "\n"
          ]
        },
        {
          "output_type": "execute_result",
          "data": {
            "text/plain": [
              "                       CITY STATE\n",
              "198               Americana    SP\n",
              "294                 Aracaju    SE\n",
              "357               Araucária    PR\n",
              "580                   Belém    PA\n",
              "642               Boa Vista    RR\n",
              "864                 Caconde    SP\n",
              "971            Campo Grande    MS\n",
              "1097            Carapicuíba    SP\n",
              "1370               Contagem    MG\n",
              "1423                Corumbá    MS\n",
              "1637        Duque De Caxias    RJ\n",
              "1812          Florianópolis    SC\n",
              "1839          Foz Do Iguaçu    PR\n",
              "1927                Goiânia    GO\n",
              "2036              Guarulhos    SP\n",
              "2534         Jaraguá Do Sul    SC\n",
              "2595            João Pessoa    PB\n",
              "2775                Limeira    SP\n",
              "2794               Londrina    PR\n",
              "2827                  Macaé    RJ\n",
              "2886                 Manaus    AM\n",
              "3240                  Natal    RN\n",
              "3273                Niterói    RJ\n",
              "3332            Nova Iguaçu    RJ\n",
              "3531                 Palmas    TO\n",
              "3641            Passo Fundo    RS\n",
              "3978            Porto Velho    RO\n",
              "4058                 Quaraí    RS\n",
              "4199              Rio Claro    SP\n",
              "4385      Santa Cruz Do Sul    RS\n",
              "4536            Santo André    SP\n",
              "4599  São Bernardo Do Campo    SP\n",
              "4607     São Caetano Do Sul    SP\n",
              "4744               São José    SC\n",
              "4763    São José De Ribamar    MA\n",
              "4799    São José Dos Campos    SP\n",
              "4922            São Vicente    SP\n",
              "4995                  Serra    ES\n",
              "5091               Sorocaba    SP\n",
              "5167                Taquara    RS\n",
              "5188                Taubaté    SP\n",
              "5359                Uberaba    MG\n",
              "5538   Vitória Da Conquista    BA"
            ],
            "text/html": [
              "\n",
              "  <div id=\"df-aec1cdc8-f1c3-41e1-a18c-3418fb782389\">\n",
              "    <div class=\"colab-df-container\">\n",
              "      <div>\n",
              "<style scoped>\n",
              "    .dataframe tbody tr th:only-of-type {\n",
              "        vertical-align: middle;\n",
              "    }\n",
              "\n",
              "    .dataframe tbody tr th {\n",
              "        vertical-align: top;\n",
              "    }\n",
              "\n",
              "    .dataframe thead th {\n",
              "        text-align: right;\n",
              "    }\n",
              "</style>\n",
              "<table border=\"1\" class=\"dataframe\">\n",
              "  <thead>\n",
              "    <tr style=\"text-align: right;\">\n",
              "      <th></th>\n",
              "      <th>CITY</th>\n",
              "      <th>STATE</th>\n",
              "    </tr>\n",
              "  </thead>\n",
              "  <tbody>\n",
              "    <tr>\n",
              "      <th>198</th>\n",
              "      <td>Americana</td>\n",
              "      <td>SP</td>\n",
              "    </tr>\n",
              "    <tr>\n",
              "      <th>294</th>\n",
              "      <td>Aracaju</td>\n",
              "      <td>SE</td>\n",
              "    </tr>\n",
              "    <tr>\n",
              "      <th>357</th>\n",
              "      <td>Araucária</td>\n",
              "      <td>PR</td>\n",
              "    </tr>\n",
              "    <tr>\n",
              "      <th>580</th>\n",
              "      <td>Belém</td>\n",
              "      <td>PA</td>\n",
              "    </tr>\n",
              "    <tr>\n",
              "      <th>642</th>\n",
              "      <td>Boa Vista</td>\n",
              "      <td>RR</td>\n",
              "    </tr>\n",
              "    <tr>\n",
              "      <th>864</th>\n",
              "      <td>Caconde</td>\n",
              "      <td>SP</td>\n",
              "    </tr>\n",
              "    <tr>\n",
              "      <th>971</th>\n",
              "      <td>Campo Grande</td>\n",
              "      <td>MS</td>\n",
              "    </tr>\n",
              "    <tr>\n",
              "      <th>1097</th>\n",
              "      <td>Carapicuíba</td>\n",
              "      <td>SP</td>\n",
              "    </tr>\n",
              "    <tr>\n",
              "      <th>1370</th>\n",
              "      <td>Contagem</td>\n",
              "      <td>MG</td>\n",
              "    </tr>\n",
              "    <tr>\n",
              "      <th>1423</th>\n",
              "      <td>Corumbá</td>\n",
              "      <td>MS</td>\n",
              "    </tr>\n",
              "    <tr>\n",
              "      <th>1637</th>\n",
              "      <td>Duque De Caxias</td>\n",
              "      <td>RJ</td>\n",
              "    </tr>\n",
              "    <tr>\n",
              "      <th>1812</th>\n",
              "      <td>Florianópolis</td>\n",
              "      <td>SC</td>\n",
              "    </tr>\n",
              "    <tr>\n",
              "      <th>1839</th>\n",
              "      <td>Foz Do Iguaçu</td>\n",
              "      <td>PR</td>\n",
              "    </tr>\n",
              "    <tr>\n",
              "      <th>1927</th>\n",
              "      <td>Goiânia</td>\n",
              "      <td>GO</td>\n",
              "    </tr>\n",
              "    <tr>\n",
              "      <th>2036</th>\n",
              "      <td>Guarulhos</td>\n",
              "      <td>SP</td>\n",
              "    </tr>\n",
              "    <tr>\n",
              "      <th>2534</th>\n",
              "      <td>Jaraguá Do Sul</td>\n",
              "      <td>SC</td>\n",
              "    </tr>\n",
              "    <tr>\n",
              "      <th>2595</th>\n",
              "      <td>João Pessoa</td>\n",
              "      <td>PB</td>\n",
              "    </tr>\n",
              "    <tr>\n",
              "      <th>2775</th>\n",
              "      <td>Limeira</td>\n",
              "      <td>SP</td>\n",
              "    </tr>\n",
              "    <tr>\n",
              "      <th>2794</th>\n",
              "      <td>Londrina</td>\n",
              "      <td>PR</td>\n",
              "    </tr>\n",
              "    <tr>\n",
              "      <th>2827</th>\n",
              "      <td>Macaé</td>\n",
              "      <td>RJ</td>\n",
              "    </tr>\n",
              "    <tr>\n",
              "      <th>2886</th>\n",
              "      <td>Manaus</td>\n",
              "      <td>AM</td>\n",
              "    </tr>\n",
              "    <tr>\n",
              "      <th>3240</th>\n",
              "      <td>Natal</td>\n",
              "      <td>RN</td>\n",
              "    </tr>\n",
              "    <tr>\n",
              "      <th>3273</th>\n",
              "      <td>Niterói</td>\n",
              "      <td>RJ</td>\n",
              "    </tr>\n",
              "    <tr>\n",
              "      <th>3332</th>\n",
              "      <td>Nova Iguaçu</td>\n",
              "      <td>RJ</td>\n",
              "    </tr>\n",
              "    <tr>\n",
              "      <th>3531</th>\n",
              "      <td>Palmas</td>\n",
              "      <td>TO</td>\n",
              "    </tr>\n",
              "    <tr>\n",
              "      <th>3641</th>\n",
              "      <td>Passo Fundo</td>\n",
              "      <td>RS</td>\n",
              "    </tr>\n",
              "    <tr>\n",
              "      <th>3978</th>\n",
              "      <td>Porto Velho</td>\n",
              "      <td>RO</td>\n",
              "    </tr>\n",
              "    <tr>\n",
              "      <th>4058</th>\n",
              "      <td>Quaraí</td>\n",
              "      <td>RS</td>\n",
              "    </tr>\n",
              "    <tr>\n",
              "      <th>4199</th>\n",
              "      <td>Rio Claro</td>\n",
              "      <td>SP</td>\n",
              "    </tr>\n",
              "    <tr>\n",
              "      <th>4385</th>\n",
              "      <td>Santa Cruz Do Sul</td>\n",
              "      <td>RS</td>\n",
              "    </tr>\n",
              "    <tr>\n",
              "      <th>4536</th>\n",
              "      <td>Santo André</td>\n",
              "      <td>SP</td>\n",
              "    </tr>\n",
              "    <tr>\n",
              "      <th>4599</th>\n",
              "      <td>São Bernardo Do Campo</td>\n",
              "      <td>SP</td>\n",
              "    </tr>\n",
              "    <tr>\n",
              "      <th>4607</th>\n",
              "      <td>São Caetano Do Sul</td>\n",
              "      <td>SP</td>\n",
              "    </tr>\n",
              "    <tr>\n",
              "      <th>4744</th>\n",
              "      <td>São José</td>\n",
              "      <td>SC</td>\n",
              "    </tr>\n",
              "    <tr>\n",
              "      <th>4763</th>\n",
              "      <td>São José De Ribamar</td>\n",
              "      <td>MA</td>\n",
              "    </tr>\n",
              "    <tr>\n",
              "      <th>4799</th>\n",
              "      <td>São José Dos Campos</td>\n",
              "      <td>SP</td>\n",
              "    </tr>\n",
              "    <tr>\n",
              "      <th>4922</th>\n",
              "      <td>São Vicente</td>\n",
              "      <td>SP</td>\n",
              "    </tr>\n",
              "    <tr>\n",
              "      <th>4995</th>\n",
              "      <td>Serra</td>\n",
              "      <td>ES</td>\n",
              "    </tr>\n",
              "    <tr>\n",
              "      <th>5091</th>\n",
              "      <td>Sorocaba</td>\n",
              "      <td>SP</td>\n",
              "    </tr>\n",
              "    <tr>\n",
              "      <th>5167</th>\n",
              "      <td>Taquara</td>\n",
              "      <td>RS</td>\n",
              "    </tr>\n",
              "    <tr>\n",
              "      <th>5188</th>\n",
              "      <td>Taubaté</td>\n",
              "      <td>SP</td>\n",
              "    </tr>\n",
              "    <tr>\n",
              "      <th>5359</th>\n",
              "      <td>Uberaba</td>\n",
              "      <td>MG</td>\n",
              "    </tr>\n",
              "    <tr>\n",
              "      <th>5538</th>\n",
              "      <td>Vitória Da Conquista</td>\n",
              "      <td>BA</td>\n",
              "    </tr>\n",
              "  </tbody>\n",
              "</table>\n",
              "</div>\n",
              "      <button class=\"colab-df-convert\" onclick=\"convertToInteractive('df-aec1cdc8-f1c3-41e1-a18c-3418fb782389')\"\n",
              "              title=\"Convert this dataframe to an interactive table.\"\n",
              "              style=\"display:none;\">\n",
              "        \n",
              "  <svg xmlns=\"http://www.w3.org/2000/svg\" height=\"24px\"viewBox=\"0 0 24 24\"\n",
              "       width=\"24px\">\n",
              "    <path d=\"M0 0h24v24H0V0z\" fill=\"none\"/>\n",
              "    <path d=\"M18.56 5.44l.94 2.06.94-2.06 2.06-.94-2.06-.94-.94-2.06-.94 2.06-2.06.94zm-11 1L8.5 8.5l.94-2.06 2.06-.94-2.06-.94L8.5 2.5l-.94 2.06-2.06.94zm10 10l.94 2.06.94-2.06 2.06-.94-2.06-.94-.94-2.06-.94 2.06-2.06.94z\"/><path d=\"M17.41 7.96l-1.37-1.37c-.4-.4-.92-.59-1.43-.59-.52 0-1.04.2-1.43.59L10.3 9.45l-7.72 7.72c-.78.78-.78 2.05 0 2.83L4 21.41c.39.39.9.59 1.41.59.51 0 1.02-.2 1.41-.59l7.78-7.78 2.81-2.81c.8-.78.8-2.07 0-2.86zM5.41 20L4 18.59l7.72-7.72 1.47 1.35L5.41 20z\"/>\n",
              "  </svg>\n",
              "      </button>\n",
              "      \n",
              "  <style>\n",
              "    .colab-df-container {\n",
              "      display:flex;\n",
              "      flex-wrap:wrap;\n",
              "      gap: 12px;\n",
              "    }\n",
              "\n",
              "    .colab-df-convert {\n",
              "      background-color: #E8F0FE;\n",
              "      border: none;\n",
              "      border-radius: 50%;\n",
              "      cursor: pointer;\n",
              "      display: none;\n",
              "      fill: #1967D2;\n",
              "      height: 32px;\n",
              "      padding: 0 0 0 0;\n",
              "      width: 32px;\n",
              "    }\n",
              "\n",
              "    .colab-df-convert:hover {\n",
              "      background-color: #E2EBFA;\n",
              "      box-shadow: 0px 1px 2px rgba(60, 64, 67, 0.3), 0px 1px 3px 1px rgba(60, 64, 67, 0.15);\n",
              "      fill: #174EA6;\n",
              "    }\n",
              "\n",
              "    [theme=dark] .colab-df-convert {\n",
              "      background-color: #3B4455;\n",
              "      fill: #D2E3FC;\n",
              "    }\n",
              "\n",
              "    [theme=dark] .colab-df-convert:hover {\n",
              "      background-color: #434B5C;\n",
              "      box-shadow: 0px 1px 3px 1px rgba(0, 0, 0, 0.15);\n",
              "      filter: drop-shadow(0px 1px 2px rgba(0, 0, 0, 0.3));\n",
              "      fill: #FFFFFF;\n",
              "    }\n",
              "  </style>\n",
              "\n",
              "      <script>\n",
              "        const buttonEl =\n",
              "          document.querySelector('#df-aec1cdc8-f1c3-41e1-a18c-3418fb782389 button.colab-df-convert');\n",
              "        buttonEl.style.display =\n",
              "          google.colab.kernel.accessAllowed ? 'block' : 'none';\n",
              "\n",
              "        async function convertToInteractive(key) {\n",
              "          const element = document.querySelector('#df-aec1cdc8-f1c3-41e1-a18c-3418fb782389');\n",
              "          const dataTable =\n",
              "            await google.colab.kernel.invokeFunction('convertToInteractive',\n",
              "                                                     [key], {});\n",
              "          if (!dataTable) return;\n",
              "\n",
              "          const docLinkHtml = 'Like what you see? Visit the ' +\n",
              "            '<a target=\"_blank\" href=https://colab.research.google.com/notebooks/data_table.ipynb>data table notebook</a>'\n",
              "            + ' to learn more about interactive tables.';\n",
              "          element.innerHTML = '';\n",
              "          dataTable['output_type'] = 'display_data';\n",
              "          await google.colab.output.renderOutput(dataTable, element);\n",
              "          const docLink = document.createElement('div');\n",
              "          docLink.innerHTML = docLinkHtml;\n",
              "          element.appendChild(docLink);\n",
              "        }\n",
              "      </script>\n",
              "    </div>\n",
              "  </div>\n",
              "  "
            ]
          },
          "metadata": {},
          "execution_count": 1163
        }
      ],
      "source": [
        "X_test['CAPITAL'] = y_test\n",
        "X_test['CAPITAL_PREDITA'] = y_predito\n",
        "\n",
        "# X_test[X_test['CAPITAL'] == 1]\n",
        "tabela_resultados = pd.merge(data[['CITY', 'STATE']], X_test, how='inner', left_index=True, right_index=True)\n",
        "\n",
        "print(f'Número de cidades alocadas como capitais: {len(tabela_resultados[tabela_resultados.CAPITAL_PREDITA == 1])}\\n')\n",
        "tabela_resultados[tabela_resultados.CAPITAL_PREDITA == 1][['CITY', 'STATE']]"
      ]
    },
    {
      "cell_type": "code",
      "execution_count": null,
      "metadata": {
        "colab": {
          "base_uri": "https://localhost:8080/",
          "height": 463
        },
        "id": "qkFuWkh-wZdp",
        "outputId": "d123f1c1-ec94-4dc5-c3bc-1e260dc4788b"
      },
      "outputs": [
        {
          "output_type": "stream",
          "name": "stdout",
          "text": [
            "Número de capitais que foram classificadas como tais: 11 de 11\n",
            "Número de capitais que não foram classificadas como tais: 0 de 11\n",
            "\n",
            "Cidades corretamente classificadas como capitais:\n"
          ]
        },
        {
          "output_type": "execute_result",
          "data": {
            "text/plain": [
              "               CITY STATE\n",
              "294         Aracaju    SE\n",
              "580           Belém    PA\n",
              "642       Boa Vista    RR\n",
              "971    Campo Grande    MS\n",
              "1812  Florianópolis    SC\n",
              "1927        Goiânia    GO\n",
              "2595    João Pessoa    PB\n",
              "2886         Manaus    AM\n",
              "3240          Natal    RN\n",
              "3531         Palmas    TO\n",
              "3978    Porto Velho    RO"
            ],
            "text/html": [
              "\n",
              "  <div id=\"df-b9ff7594-d5c1-4fe7-bd59-bd09080c5e65\">\n",
              "    <div class=\"colab-df-container\">\n",
              "      <div>\n",
              "<style scoped>\n",
              "    .dataframe tbody tr th:only-of-type {\n",
              "        vertical-align: middle;\n",
              "    }\n",
              "\n",
              "    .dataframe tbody tr th {\n",
              "        vertical-align: top;\n",
              "    }\n",
              "\n",
              "    .dataframe thead th {\n",
              "        text-align: right;\n",
              "    }\n",
              "</style>\n",
              "<table border=\"1\" class=\"dataframe\">\n",
              "  <thead>\n",
              "    <tr style=\"text-align: right;\">\n",
              "      <th></th>\n",
              "      <th>CITY</th>\n",
              "      <th>STATE</th>\n",
              "    </tr>\n",
              "  </thead>\n",
              "  <tbody>\n",
              "    <tr>\n",
              "      <th>294</th>\n",
              "      <td>Aracaju</td>\n",
              "      <td>SE</td>\n",
              "    </tr>\n",
              "    <tr>\n",
              "      <th>580</th>\n",
              "      <td>Belém</td>\n",
              "      <td>PA</td>\n",
              "    </tr>\n",
              "    <tr>\n",
              "      <th>642</th>\n",
              "      <td>Boa Vista</td>\n",
              "      <td>RR</td>\n",
              "    </tr>\n",
              "    <tr>\n",
              "      <th>971</th>\n",
              "      <td>Campo Grande</td>\n",
              "      <td>MS</td>\n",
              "    </tr>\n",
              "    <tr>\n",
              "      <th>1812</th>\n",
              "      <td>Florianópolis</td>\n",
              "      <td>SC</td>\n",
              "    </tr>\n",
              "    <tr>\n",
              "      <th>1927</th>\n",
              "      <td>Goiânia</td>\n",
              "      <td>GO</td>\n",
              "    </tr>\n",
              "    <tr>\n",
              "      <th>2595</th>\n",
              "      <td>João Pessoa</td>\n",
              "      <td>PB</td>\n",
              "    </tr>\n",
              "    <tr>\n",
              "      <th>2886</th>\n",
              "      <td>Manaus</td>\n",
              "      <td>AM</td>\n",
              "    </tr>\n",
              "    <tr>\n",
              "      <th>3240</th>\n",
              "      <td>Natal</td>\n",
              "      <td>RN</td>\n",
              "    </tr>\n",
              "    <tr>\n",
              "      <th>3531</th>\n",
              "      <td>Palmas</td>\n",
              "      <td>TO</td>\n",
              "    </tr>\n",
              "    <tr>\n",
              "      <th>3978</th>\n",
              "      <td>Porto Velho</td>\n",
              "      <td>RO</td>\n",
              "    </tr>\n",
              "  </tbody>\n",
              "</table>\n",
              "</div>\n",
              "      <button class=\"colab-df-convert\" onclick=\"convertToInteractive('df-b9ff7594-d5c1-4fe7-bd59-bd09080c5e65')\"\n",
              "              title=\"Convert this dataframe to an interactive table.\"\n",
              "              style=\"display:none;\">\n",
              "        \n",
              "  <svg xmlns=\"http://www.w3.org/2000/svg\" height=\"24px\"viewBox=\"0 0 24 24\"\n",
              "       width=\"24px\">\n",
              "    <path d=\"M0 0h24v24H0V0z\" fill=\"none\"/>\n",
              "    <path d=\"M18.56 5.44l.94 2.06.94-2.06 2.06-.94-2.06-.94-.94-2.06-.94 2.06-2.06.94zm-11 1L8.5 8.5l.94-2.06 2.06-.94-2.06-.94L8.5 2.5l-.94 2.06-2.06.94zm10 10l.94 2.06.94-2.06 2.06-.94-2.06-.94-.94-2.06-.94 2.06-2.06.94z\"/><path d=\"M17.41 7.96l-1.37-1.37c-.4-.4-.92-.59-1.43-.59-.52 0-1.04.2-1.43.59L10.3 9.45l-7.72 7.72c-.78.78-.78 2.05 0 2.83L4 21.41c.39.39.9.59 1.41.59.51 0 1.02-.2 1.41-.59l7.78-7.78 2.81-2.81c.8-.78.8-2.07 0-2.86zM5.41 20L4 18.59l7.72-7.72 1.47 1.35L5.41 20z\"/>\n",
              "  </svg>\n",
              "      </button>\n",
              "      \n",
              "  <style>\n",
              "    .colab-df-container {\n",
              "      display:flex;\n",
              "      flex-wrap:wrap;\n",
              "      gap: 12px;\n",
              "    }\n",
              "\n",
              "    .colab-df-convert {\n",
              "      background-color: #E8F0FE;\n",
              "      border: none;\n",
              "      border-radius: 50%;\n",
              "      cursor: pointer;\n",
              "      display: none;\n",
              "      fill: #1967D2;\n",
              "      height: 32px;\n",
              "      padding: 0 0 0 0;\n",
              "      width: 32px;\n",
              "    }\n",
              "\n",
              "    .colab-df-convert:hover {\n",
              "      background-color: #E2EBFA;\n",
              "      box-shadow: 0px 1px 2px rgba(60, 64, 67, 0.3), 0px 1px 3px 1px rgba(60, 64, 67, 0.15);\n",
              "      fill: #174EA6;\n",
              "    }\n",
              "\n",
              "    [theme=dark] .colab-df-convert {\n",
              "      background-color: #3B4455;\n",
              "      fill: #D2E3FC;\n",
              "    }\n",
              "\n",
              "    [theme=dark] .colab-df-convert:hover {\n",
              "      background-color: #434B5C;\n",
              "      box-shadow: 0px 1px 3px 1px rgba(0, 0, 0, 0.15);\n",
              "      filter: drop-shadow(0px 1px 2px rgba(0, 0, 0, 0.3));\n",
              "      fill: #FFFFFF;\n",
              "    }\n",
              "  </style>\n",
              "\n",
              "      <script>\n",
              "        const buttonEl =\n",
              "          document.querySelector('#df-b9ff7594-d5c1-4fe7-bd59-bd09080c5e65 button.colab-df-convert');\n",
              "        buttonEl.style.display =\n",
              "          google.colab.kernel.accessAllowed ? 'block' : 'none';\n",
              "\n",
              "        async function convertToInteractive(key) {\n",
              "          const element = document.querySelector('#df-b9ff7594-d5c1-4fe7-bd59-bd09080c5e65');\n",
              "          const dataTable =\n",
              "            await google.colab.kernel.invokeFunction('convertToInteractive',\n",
              "                                                     [key], {});\n",
              "          if (!dataTable) return;\n",
              "\n",
              "          const docLinkHtml = 'Like what you see? Visit the ' +\n",
              "            '<a target=\"_blank\" href=https://colab.research.google.com/notebooks/data_table.ipynb>data table notebook</a>'\n",
              "            + ' to learn more about interactive tables.';\n",
              "          element.innerHTML = '';\n",
              "          dataTable['output_type'] = 'display_data';\n",
              "          await google.colab.output.renderOutput(dataTable, element);\n",
              "          const docLink = document.createElement('div');\n",
              "          docLink.innerHTML = docLinkHtml;\n",
              "          element.appendChild(docLink);\n",
              "        }\n",
              "      </script>\n",
              "    </div>\n",
              "  </div>\n",
              "  "
            ]
          },
          "metadata": {},
          "execution_count": 1164
        }
      ],
      "source": [
        "print(f'Número de capitais que foram classificadas como tais: {len(tabela_resultados[(tabela_resultados.CAPITAL_PREDITA == 1) & (tabela_resultados.CAPITAL == 1)])} de {len(tabela_resultados[tabela_resultados.CAPITAL == 1])}')\n",
        "print(f'Número de capitais que não foram classificadas como tais: {len(tabela_resultados[(tabela_resultados.CAPITAL_PREDITA == 0) & (tabela_resultados.CAPITAL == 1)])} de {len(tabela_resultados[tabela_resultados.CAPITAL == 1])}\\n')\n",
        "\n",
        "print('Cidades corretamente classificadas como capitais:')\n",
        "tabela_resultados[(tabela_resultados.CAPITAL_PREDITA == 1) & (tabela_resultados.CAPITAL == 1)][['CITY', 'STATE']]"
      ]
    },
    {
      "cell_type": "markdown",
      "metadata": {
        "id": "8L09ik-hwYaO"
      },
      "source": [
        "# Algoritmo 2: Árvores de Decisão\n"
      ]
    },
    {
      "cell_type": "code",
      "execution_count": null,
      "metadata": {
        "id": "fBo6hv3ZwcRr"
      },
      "outputs": [],
      "source": [
        "#Importa o método de Árvores de Decisão do Sklearn\n",
        "from sklearn.tree import DecisionTreeClassifier\n",
        "\n",
        "# Divizão dos dados em teino e teste\n",
        "X_train, X_test, y_train, y_test = train_test_split(data_predicao.iloc[:, :-1], data_predicao.iloc[:, -1:], test_size=0.30)\n",
        "\n",
        "#Cria uma instância de classe\n",
        "DTC = DecisionTreeClassifier(criterion='gini', max_features=4, max_depth=5)\n",
        "DTC = DTC.fit(X_train, y_train)\n",
        "\n",
        "# Obtenção da label predita\n",
        "y_predito = DTC.predict(X_test)"
      ]
    },
    {
      "cell_type": "markdown",
      "metadata": {
        "id": "pS3F3DPIxf2w"
      },
      "source": [
        "O desempenho da Árvore de Decisão foi superior ao do algoritmo anterior:"
      ]
    },
    {
      "cell_type": "code",
      "execution_count": null,
      "metadata": {
        "colab": {
          "base_uri": "https://localhost:8080/"
        },
        "id": "NlSealWwxO7m",
        "outputId": "41cef240-7243-4323-9305-6f5c7768044d"
      },
      "outputs": [
        {
          "output_type": "stream",
          "name": "stdout",
          "text": [
            "Analise de desempenho do algoritmo:\n",
            "Acuracia: 99.64%\n",
            "Precisão: 60.0%\n",
            "Recall: 75.0%\n",
            "F1-Score: 66.67%\n"
          ]
        }
      ],
      "source": [
        "print('Analise de desempenho do algoritmo:')\n",
        "\n",
        "print(f'Acuracia: {round(metrics.accuracy_score(y_test, y_predito)*100, 2)}%')\n",
        "print(f'Precisão: {round(metrics.precision_score(y_test, y_predito)*100, 2)}%')\n",
        "print(f'Recall: {round(metrics.recall_score(y_test, y_predito)*100, 2)}%')\n",
        "print(f'F1-Score: {round(metrics.f1_score(y_test, y_predito)*100, 2)}%')"
      ]
    },
    {
      "cell_type": "code",
      "execution_count": null,
      "metadata": {
        "colab": {
          "base_uri": "https://localhost:8080/",
          "height": 397
        },
        "id": "0cr6SUl1xODH",
        "outputId": "1bb7c909-2791-4e95-d3c2-3b72d7c7405e"
      },
      "outputs": [
        {
          "output_type": "stream",
          "name": "stdout",
          "text": [
            "Número de cidades alocadas como capitais: 10\n",
            "\n"
          ]
        },
        {
          "output_type": "execute_result",
          "data": {
            "text/plain": [
              "                CITY STATE\n",
              "951         Campinas    SP\n",
              "1491          Cuiabá    MT\n",
              "1831       Fortaleza    CE\n",
              "1927         Goiânia    GO\n",
              "2036       Guarulhos    SP\n",
              "2631    Juiz De Fora    MG\n",
              "2840          Maceió    AL\n",
              "3273         Niterói    RJ\n",
              "3948    Porto Alegre    RS\n",
              "4208  Rio De Janeiro    RJ"
            ],
            "text/html": [
              "\n",
              "  <div id=\"df-5c614979-33f1-40c9-9be0-76afe1e64e55\">\n",
              "    <div class=\"colab-df-container\">\n",
              "      <div>\n",
              "<style scoped>\n",
              "    .dataframe tbody tr th:only-of-type {\n",
              "        vertical-align: middle;\n",
              "    }\n",
              "\n",
              "    .dataframe tbody tr th {\n",
              "        vertical-align: top;\n",
              "    }\n",
              "\n",
              "    .dataframe thead th {\n",
              "        text-align: right;\n",
              "    }\n",
              "</style>\n",
              "<table border=\"1\" class=\"dataframe\">\n",
              "  <thead>\n",
              "    <tr style=\"text-align: right;\">\n",
              "      <th></th>\n",
              "      <th>CITY</th>\n",
              "      <th>STATE</th>\n",
              "    </tr>\n",
              "  </thead>\n",
              "  <tbody>\n",
              "    <tr>\n",
              "      <th>951</th>\n",
              "      <td>Campinas</td>\n",
              "      <td>SP</td>\n",
              "    </tr>\n",
              "    <tr>\n",
              "      <th>1491</th>\n",
              "      <td>Cuiabá</td>\n",
              "      <td>MT</td>\n",
              "    </tr>\n",
              "    <tr>\n",
              "      <th>1831</th>\n",
              "      <td>Fortaleza</td>\n",
              "      <td>CE</td>\n",
              "    </tr>\n",
              "    <tr>\n",
              "      <th>1927</th>\n",
              "      <td>Goiânia</td>\n",
              "      <td>GO</td>\n",
              "    </tr>\n",
              "    <tr>\n",
              "      <th>2036</th>\n",
              "      <td>Guarulhos</td>\n",
              "      <td>SP</td>\n",
              "    </tr>\n",
              "    <tr>\n",
              "      <th>2631</th>\n",
              "      <td>Juiz De Fora</td>\n",
              "      <td>MG</td>\n",
              "    </tr>\n",
              "    <tr>\n",
              "      <th>2840</th>\n",
              "      <td>Maceió</td>\n",
              "      <td>AL</td>\n",
              "    </tr>\n",
              "    <tr>\n",
              "      <th>3273</th>\n",
              "      <td>Niterói</td>\n",
              "      <td>RJ</td>\n",
              "    </tr>\n",
              "    <tr>\n",
              "      <th>3948</th>\n",
              "      <td>Porto Alegre</td>\n",
              "      <td>RS</td>\n",
              "    </tr>\n",
              "    <tr>\n",
              "      <th>4208</th>\n",
              "      <td>Rio De Janeiro</td>\n",
              "      <td>RJ</td>\n",
              "    </tr>\n",
              "  </tbody>\n",
              "</table>\n",
              "</div>\n",
              "      <button class=\"colab-df-convert\" onclick=\"convertToInteractive('df-5c614979-33f1-40c9-9be0-76afe1e64e55')\"\n",
              "              title=\"Convert this dataframe to an interactive table.\"\n",
              "              style=\"display:none;\">\n",
              "        \n",
              "  <svg xmlns=\"http://www.w3.org/2000/svg\" height=\"24px\"viewBox=\"0 0 24 24\"\n",
              "       width=\"24px\">\n",
              "    <path d=\"M0 0h24v24H0V0z\" fill=\"none\"/>\n",
              "    <path d=\"M18.56 5.44l.94 2.06.94-2.06 2.06-.94-2.06-.94-.94-2.06-.94 2.06-2.06.94zm-11 1L8.5 8.5l.94-2.06 2.06-.94-2.06-.94L8.5 2.5l-.94 2.06-2.06.94zm10 10l.94 2.06.94-2.06 2.06-.94-2.06-.94-.94-2.06-.94 2.06-2.06.94z\"/><path d=\"M17.41 7.96l-1.37-1.37c-.4-.4-.92-.59-1.43-.59-.52 0-1.04.2-1.43.59L10.3 9.45l-7.72 7.72c-.78.78-.78 2.05 0 2.83L4 21.41c.39.39.9.59 1.41.59.51 0 1.02-.2 1.41-.59l7.78-7.78 2.81-2.81c.8-.78.8-2.07 0-2.86zM5.41 20L4 18.59l7.72-7.72 1.47 1.35L5.41 20z\"/>\n",
              "  </svg>\n",
              "      </button>\n",
              "      \n",
              "  <style>\n",
              "    .colab-df-container {\n",
              "      display:flex;\n",
              "      flex-wrap:wrap;\n",
              "      gap: 12px;\n",
              "    }\n",
              "\n",
              "    .colab-df-convert {\n",
              "      background-color: #E8F0FE;\n",
              "      border: none;\n",
              "      border-radius: 50%;\n",
              "      cursor: pointer;\n",
              "      display: none;\n",
              "      fill: #1967D2;\n",
              "      height: 32px;\n",
              "      padding: 0 0 0 0;\n",
              "      width: 32px;\n",
              "    }\n",
              "\n",
              "    .colab-df-convert:hover {\n",
              "      background-color: #E2EBFA;\n",
              "      box-shadow: 0px 1px 2px rgba(60, 64, 67, 0.3), 0px 1px 3px 1px rgba(60, 64, 67, 0.15);\n",
              "      fill: #174EA6;\n",
              "    }\n",
              "\n",
              "    [theme=dark] .colab-df-convert {\n",
              "      background-color: #3B4455;\n",
              "      fill: #D2E3FC;\n",
              "    }\n",
              "\n",
              "    [theme=dark] .colab-df-convert:hover {\n",
              "      background-color: #434B5C;\n",
              "      box-shadow: 0px 1px 3px 1px rgba(0, 0, 0, 0.15);\n",
              "      filter: drop-shadow(0px 1px 2px rgba(0, 0, 0, 0.3));\n",
              "      fill: #FFFFFF;\n",
              "    }\n",
              "  </style>\n",
              "\n",
              "      <script>\n",
              "        const buttonEl =\n",
              "          document.querySelector('#df-5c614979-33f1-40c9-9be0-76afe1e64e55 button.colab-df-convert');\n",
              "        buttonEl.style.display =\n",
              "          google.colab.kernel.accessAllowed ? 'block' : 'none';\n",
              "\n",
              "        async function convertToInteractive(key) {\n",
              "          const element = document.querySelector('#df-5c614979-33f1-40c9-9be0-76afe1e64e55');\n",
              "          const dataTable =\n",
              "            await google.colab.kernel.invokeFunction('convertToInteractive',\n",
              "                                                     [key], {});\n",
              "          if (!dataTable) return;\n",
              "\n",
              "          const docLinkHtml = 'Like what you see? Visit the ' +\n",
              "            '<a target=\"_blank\" href=https://colab.research.google.com/notebooks/data_table.ipynb>data table notebook</a>'\n",
              "            + ' to learn more about interactive tables.';\n",
              "          element.innerHTML = '';\n",
              "          dataTable['output_type'] = 'display_data';\n",
              "          await google.colab.output.renderOutput(dataTable, element);\n",
              "          const docLink = document.createElement('div');\n",
              "          docLink.innerHTML = docLinkHtml;\n",
              "          element.appendChild(docLink);\n",
              "        }\n",
              "      </script>\n",
              "    </div>\n",
              "  </div>\n",
              "  "
            ]
          },
          "metadata": {},
          "execution_count": 1184
        }
      ],
      "source": [
        "X_test['CAPITAL'] = y_test\n",
        "X_test['CAPITAL_PREDITA'] = y_predito\n",
        "\n",
        "tabela_resultados = pd.merge(data[['CITY', 'STATE']], X_test, how='inner', left_index=True, right_index=True)\n",
        "\n",
        "print(f'Número de cidades alocadas como capitais: {len(tabela_resultados[tabela_resultados.CAPITAL_PREDITA == 1])}\\n')\n",
        "tabela_resultados[tabela_resultados.CAPITAL_PREDITA == 1][['CITY', 'STATE']]"
      ]
    },
    {
      "cell_type": "code",
      "execution_count": null,
      "metadata": {
        "colab": {
          "base_uri": "https://localhost:8080/",
          "height": 307
        },
        "id": "5fmMhI0-xNrN",
        "outputId": "46086b04-adb1-4c88-de8f-f527e51c89d5"
      },
      "outputs": [
        {
          "output_type": "stream",
          "name": "stdout",
          "text": [
            "Número de capitais que foram classificadas como tais: 6 de 8\n",
            "Número de capitais que não foram classificadas como tais: 2 de 8\n",
            "\n",
            "Cidades corretamente classificadas como capitais:\n"
          ]
        },
        {
          "output_type": "execute_result",
          "data": {
            "text/plain": [
              "                CITY STATE\n",
              "1491          Cuiabá    MT\n",
              "1831       Fortaleza    CE\n",
              "1927         Goiânia    GO\n",
              "2840          Maceió    AL\n",
              "3948    Porto Alegre    RS\n",
              "4208  Rio De Janeiro    RJ"
            ],
            "text/html": [
              "\n",
              "  <div id=\"df-68cdd9e9-e171-4ad6-9d67-d684137abc96\">\n",
              "    <div class=\"colab-df-container\">\n",
              "      <div>\n",
              "<style scoped>\n",
              "    .dataframe tbody tr th:only-of-type {\n",
              "        vertical-align: middle;\n",
              "    }\n",
              "\n",
              "    .dataframe tbody tr th {\n",
              "        vertical-align: top;\n",
              "    }\n",
              "\n",
              "    .dataframe thead th {\n",
              "        text-align: right;\n",
              "    }\n",
              "</style>\n",
              "<table border=\"1\" class=\"dataframe\">\n",
              "  <thead>\n",
              "    <tr style=\"text-align: right;\">\n",
              "      <th></th>\n",
              "      <th>CITY</th>\n",
              "      <th>STATE</th>\n",
              "    </tr>\n",
              "  </thead>\n",
              "  <tbody>\n",
              "    <tr>\n",
              "      <th>1491</th>\n",
              "      <td>Cuiabá</td>\n",
              "      <td>MT</td>\n",
              "    </tr>\n",
              "    <tr>\n",
              "      <th>1831</th>\n",
              "      <td>Fortaleza</td>\n",
              "      <td>CE</td>\n",
              "    </tr>\n",
              "    <tr>\n",
              "      <th>1927</th>\n",
              "      <td>Goiânia</td>\n",
              "      <td>GO</td>\n",
              "    </tr>\n",
              "    <tr>\n",
              "      <th>2840</th>\n",
              "      <td>Maceió</td>\n",
              "      <td>AL</td>\n",
              "    </tr>\n",
              "    <tr>\n",
              "      <th>3948</th>\n",
              "      <td>Porto Alegre</td>\n",
              "      <td>RS</td>\n",
              "    </tr>\n",
              "    <tr>\n",
              "      <th>4208</th>\n",
              "      <td>Rio De Janeiro</td>\n",
              "      <td>RJ</td>\n",
              "    </tr>\n",
              "  </tbody>\n",
              "</table>\n",
              "</div>\n",
              "      <button class=\"colab-df-convert\" onclick=\"convertToInteractive('df-68cdd9e9-e171-4ad6-9d67-d684137abc96')\"\n",
              "              title=\"Convert this dataframe to an interactive table.\"\n",
              "              style=\"display:none;\">\n",
              "        \n",
              "  <svg xmlns=\"http://www.w3.org/2000/svg\" height=\"24px\"viewBox=\"0 0 24 24\"\n",
              "       width=\"24px\">\n",
              "    <path d=\"M0 0h24v24H0V0z\" fill=\"none\"/>\n",
              "    <path d=\"M18.56 5.44l.94 2.06.94-2.06 2.06-.94-2.06-.94-.94-2.06-.94 2.06-2.06.94zm-11 1L8.5 8.5l.94-2.06 2.06-.94-2.06-.94L8.5 2.5l-.94 2.06-2.06.94zm10 10l.94 2.06.94-2.06 2.06-.94-2.06-.94-.94-2.06-.94 2.06-2.06.94z\"/><path d=\"M17.41 7.96l-1.37-1.37c-.4-.4-.92-.59-1.43-.59-.52 0-1.04.2-1.43.59L10.3 9.45l-7.72 7.72c-.78.78-.78 2.05 0 2.83L4 21.41c.39.39.9.59 1.41.59.51 0 1.02-.2 1.41-.59l7.78-7.78 2.81-2.81c.8-.78.8-2.07 0-2.86zM5.41 20L4 18.59l7.72-7.72 1.47 1.35L5.41 20z\"/>\n",
              "  </svg>\n",
              "      </button>\n",
              "      \n",
              "  <style>\n",
              "    .colab-df-container {\n",
              "      display:flex;\n",
              "      flex-wrap:wrap;\n",
              "      gap: 12px;\n",
              "    }\n",
              "\n",
              "    .colab-df-convert {\n",
              "      background-color: #E8F0FE;\n",
              "      border: none;\n",
              "      border-radius: 50%;\n",
              "      cursor: pointer;\n",
              "      display: none;\n",
              "      fill: #1967D2;\n",
              "      height: 32px;\n",
              "      padding: 0 0 0 0;\n",
              "      width: 32px;\n",
              "    }\n",
              "\n",
              "    .colab-df-convert:hover {\n",
              "      background-color: #E2EBFA;\n",
              "      box-shadow: 0px 1px 2px rgba(60, 64, 67, 0.3), 0px 1px 3px 1px rgba(60, 64, 67, 0.15);\n",
              "      fill: #174EA6;\n",
              "    }\n",
              "\n",
              "    [theme=dark] .colab-df-convert {\n",
              "      background-color: #3B4455;\n",
              "      fill: #D2E3FC;\n",
              "    }\n",
              "\n",
              "    [theme=dark] .colab-df-convert:hover {\n",
              "      background-color: #434B5C;\n",
              "      box-shadow: 0px 1px 3px 1px rgba(0, 0, 0, 0.15);\n",
              "      filter: drop-shadow(0px 1px 2px rgba(0, 0, 0, 0.3));\n",
              "      fill: #FFFFFF;\n",
              "    }\n",
              "  </style>\n",
              "\n",
              "      <script>\n",
              "        const buttonEl =\n",
              "          document.querySelector('#df-68cdd9e9-e171-4ad6-9d67-d684137abc96 button.colab-df-convert');\n",
              "        buttonEl.style.display =\n",
              "          google.colab.kernel.accessAllowed ? 'block' : 'none';\n",
              "\n",
              "        async function convertToInteractive(key) {\n",
              "          const element = document.querySelector('#df-68cdd9e9-e171-4ad6-9d67-d684137abc96');\n",
              "          const dataTable =\n",
              "            await google.colab.kernel.invokeFunction('convertToInteractive',\n",
              "                                                     [key], {});\n",
              "          if (!dataTable) return;\n",
              "\n",
              "          const docLinkHtml = 'Like what you see? Visit the ' +\n",
              "            '<a target=\"_blank\" href=https://colab.research.google.com/notebooks/data_table.ipynb>data table notebook</a>'\n",
              "            + ' to learn more about interactive tables.';\n",
              "          element.innerHTML = '';\n",
              "          dataTable['output_type'] = 'display_data';\n",
              "          await google.colab.output.renderOutput(dataTable, element);\n",
              "          const docLink = document.createElement('div');\n",
              "          docLink.innerHTML = docLinkHtml;\n",
              "          element.appendChild(docLink);\n",
              "        }\n",
              "      </script>\n",
              "    </div>\n",
              "  </div>\n",
              "  "
            ]
          },
          "metadata": {},
          "execution_count": 1185
        }
      ],
      "source": [
        "print(f'Número de capitais que foram classificadas como tais: {len(tabela_resultados[(tabela_resultados.CAPITAL_PREDITA == 1) & (tabela_resultados.CAPITAL == 1)])} de {len(tabela_resultados[tabela_resultados.CAPITAL == 1])}')\n",
        "print(f'Número de capitais que não foram classificadas como tais: {len(tabela_resultados[(tabela_resultados.CAPITAL_PREDITA == 0) & (tabela_resultados.CAPITAL == 1)])} de {len(tabela_resultados[tabela_resultados.CAPITAL == 1])}\\n')\n",
        "\n",
        "print('Cidades corretamente classificadas como capitais:')\n",
        "tabela_resultados[(tabela_resultados.CAPITAL_PREDITA == 1) & (tabela_resultados.CAPITAL == 1)][['CITY', 'STATE']]"
      ]
    },
    {
      "cell_type": "markdown",
      "metadata": {
        "id": "0zja0rf_x10k"
      },
      "source": [
        "#Algoritmo 3: Perceptron"
      ]
    },
    {
      "cell_type": "code",
      "execution_count": null,
      "metadata": {
        "colab": {
          "base_uri": "https://localhost:8080/"
        },
        "id": "yAca6p8EyeqC",
        "outputId": "f8771b66-cf14-4b9e-fd82-e7bb75a371b5"
      },
      "outputs": [
        {
          "output_type": "stream",
          "name": "stderr",
          "text": [
            "/usr/local/lib/python3.10/dist-packages/sklearn/utils/validation.py:1143: DataConversionWarning:\n",
            "\n",
            "A column-vector y was passed when a 1d array was expected. Please change the shape of y to (n_samples, ), for example using ravel().\n",
            "\n"
          ]
        }
      ],
      "source": [
        "#Importa o método de Árvores de Decisão do Sklearn\n",
        "from sklearn.linear_model import Perceptron\n",
        "\n",
        "# Divizão dos dados em teino e teste\n",
        "X_train, X_test, y_train, y_test = train_test_split(data_predicao.iloc[:, :-1], data_predicao.iloc[:, -1:], test_size=0.30)\n",
        "\n",
        "#Cria uma instância de classe\n",
        "perceptron = Perceptron(eta0=0.1, max_iter=100)\n",
        "perceptron.fit(X_train, y_train)\n",
        "\n",
        "#Classe predita\n",
        "y_predito = perceptron.predict(X_test)"
      ]
    },
    {
      "cell_type": "markdown",
      "metadata": {
        "id": "YNNukVeezIQR"
      },
      "source": [
        "É possível ver que o desmpenho da Árvore de Decisão foi muito superior aos algoritmos anteriores:"
      ]
    },
    {
      "cell_type": "code",
      "execution_count": null,
      "metadata": {
        "colab": {
          "base_uri": "https://localhost:8080/"
        },
        "id": "XUD95b5Ay8Uh",
        "outputId": "b955c395-7cc1-4d74-bdd3-9fd0c034b95b"
      },
      "outputs": [
        {
          "output_type": "stream",
          "name": "stdout",
          "text": [
            "Analise de desempenho do algoritmo:\n",
            "Acuracia: 99.94%\n",
            "Precisão: 90.0%\n",
            "Recall: 100.0%\n",
            "F1-Score: 94.74%\n"
          ]
        }
      ],
      "source": [
        "print('Analise de desempenho do algoritmo:')\n",
        "\n",
        "print(f'Acuracia: {round(metrics.accuracy_score(y_test, y_predito)*100, 2)}%')\n",
        "print(f'Precisão: {round(metrics.precision_score(y_test, y_predito)*100, 2)}%')\n",
        "print(f'Recall: {round(metrics.recall_score(y_test, y_predito)*100, 2)}%')\n",
        "print(f'F1-Score: {round(metrics.f1_score(y_test, y_predito)*100, 2)}%')"
      ]
    },
    {
      "cell_type": "markdown",
      "metadata": {
        "id": "OZr9UAdGzTjQ"
      },
      "source": [
        "O número de capitais preditas pelo algoritmo também foi inferior ao anterior:"
      ]
    },
    {
      "cell_type": "code",
      "execution_count": null,
      "metadata": {
        "colab": {
          "base_uri": "https://localhost:8080/",
          "height": 397
        },
        "id": "v3X9MTBRy_sN",
        "outputId": "4df8b990-b40b-4b1e-8c47-f383f86e8edd"
      },
      "outputs": [
        {
          "output_type": "stream",
          "name": "stdout",
          "text": [
            "Número de cidades alocadas como capitais: 10\n",
            "\n"
          ]
        },
        {
          "output_type": "execute_result",
          "data": {
            "text/plain": [
              "                CITY STATE\n",
              "294          Aracaju    SE\n",
              "642        Boa Vista    RR\n",
              "971     Campo Grande    MS\n",
              "1491          Cuiabá    MT\n",
              "2036       Guarulhos    SP\n",
              "2595     João Pessoa    PB\n",
              "3948    Porto Alegre    RS\n",
              "4193      Rio Branco    AC\n",
              "4208  Rio De Janeiro    RJ\n",
              "4813        São Luís    MA"
            ],
            "text/html": [
              "\n",
              "  <div id=\"df-2bae26d5-8207-4240-9cad-92d5f301670a\">\n",
              "    <div class=\"colab-df-container\">\n",
              "      <div>\n",
              "<style scoped>\n",
              "    .dataframe tbody tr th:only-of-type {\n",
              "        vertical-align: middle;\n",
              "    }\n",
              "\n",
              "    .dataframe tbody tr th {\n",
              "        vertical-align: top;\n",
              "    }\n",
              "\n",
              "    .dataframe thead th {\n",
              "        text-align: right;\n",
              "    }\n",
              "</style>\n",
              "<table border=\"1\" class=\"dataframe\">\n",
              "  <thead>\n",
              "    <tr style=\"text-align: right;\">\n",
              "      <th></th>\n",
              "      <th>CITY</th>\n",
              "      <th>STATE</th>\n",
              "    </tr>\n",
              "  </thead>\n",
              "  <tbody>\n",
              "    <tr>\n",
              "      <th>294</th>\n",
              "      <td>Aracaju</td>\n",
              "      <td>SE</td>\n",
              "    </tr>\n",
              "    <tr>\n",
              "      <th>642</th>\n",
              "      <td>Boa Vista</td>\n",
              "      <td>RR</td>\n",
              "    </tr>\n",
              "    <tr>\n",
              "      <th>971</th>\n",
              "      <td>Campo Grande</td>\n",
              "      <td>MS</td>\n",
              "    </tr>\n",
              "    <tr>\n",
              "      <th>1491</th>\n",
              "      <td>Cuiabá</td>\n",
              "      <td>MT</td>\n",
              "    </tr>\n",
              "    <tr>\n",
              "      <th>2036</th>\n",
              "      <td>Guarulhos</td>\n",
              "      <td>SP</td>\n",
              "    </tr>\n",
              "    <tr>\n",
              "      <th>2595</th>\n",
              "      <td>João Pessoa</td>\n",
              "      <td>PB</td>\n",
              "    </tr>\n",
              "    <tr>\n",
              "      <th>3948</th>\n",
              "      <td>Porto Alegre</td>\n",
              "      <td>RS</td>\n",
              "    </tr>\n",
              "    <tr>\n",
              "      <th>4193</th>\n",
              "      <td>Rio Branco</td>\n",
              "      <td>AC</td>\n",
              "    </tr>\n",
              "    <tr>\n",
              "      <th>4208</th>\n",
              "      <td>Rio De Janeiro</td>\n",
              "      <td>RJ</td>\n",
              "    </tr>\n",
              "    <tr>\n",
              "      <th>4813</th>\n",
              "      <td>São Luís</td>\n",
              "      <td>MA</td>\n",
              "    </tr>\n",
              "  </tbody>\n",
              "</table>\n",
              "</div>\n",
              "      <button class=\"colab-df-convert\" onclick=\"convertToInteractive('df-2bae26d5-8207-4240-9cad-92d5f301670a')\"\n",
              "              title=\"Convert this dataframe to an interactive table.\"\n",
              "              style=\"display:none;\">\n",
              "        \n",
              "  <svg xmlns=\"http://www.w3.org/2000/svg\" height=\"24px\"viewBox=\"0 0 24 24\"\n",
              "       width=\"24px\">\n",
              "    <path d=\"M0 0h24v24H0V0z\" fill=\"none\"/>\n",
              "    <path d=\"M18.56 5.44l.94 2.06.94-2.06 2.06-.94-2.06-.94-.94-2.06-.94 2.06-2.06.94zm-11 1L8.5 8.5l.94-2.06 2.06-.94-2.06-.94L8.5 2.5l-.94 2.06-2.06.94zm10 10l.94 2.06.94-2.06 2.06-.94-2.06-.94-.94-2.06-.94 2.06-2.06.94z\"/><path d=\"M17.41 7.96l-1.37-1.37c-.4-.4-.92-.59-1.43-.59-.52 0-1.04.2-1.43.59L10.3 9.45l-7.72 7.72c-.78.78-.78 2.05 0 2.83L4 21.41c.39.39.9.59 1.41.59.51 0 1.02-.2 1.41-.59l7.78-7.78 2.81-2.81c.8-.78.8-2.07 0-2.86zM5.41 20L4 18.59l7.72-7.72 1.47 1.35L5.41 20z\"/>\n",
              "  </svg>\n",
              "      </button>\n",
              "      \n",
              "  <style>\n",
              "    .colab-df-container {\n",
              "      display:flex;\n",
              "      flex-wrap:wrap;\n",
              "      gap: 12px;\n",
              "    }\n",
              "\n",
              "    .colab-df-convert {\n",
              "      background-color: #E8F0FE;\n",
              "      border: none;\n",
              "      border-radius: 50%;\n",
              "      cursor: pointer;\n",
              "      display: none;\n",
              "      fill: #1967D2;\n",
              "      height: 32px;\n",
              "      padding: 0 0 0 0;\n",
              "      width: 32px;\n",
              "    }\n",
              "\n",
              "    .colab-df-convert:hover {\n",
              "      background-color: #E2EBFA;\n",
              "      box-shadow: 0px 1px 2px rgba(60, 64, 67, 0.3), 0px 1px 3px 1px rgba(60, 64, 67, 0.15);\n",
              "      fill: #174EA6;\n",
              "    }\n",
              "\n",
              "    [theme=dark] .colab-df-convert {\n",
              "      background-color: #3B4455;\n",
              "      fill: #D2E3FC;\n",
              "    }\n",
              "\n",
              "    [theme=dark] .colab-df-convert:hover {\n",
              "      background-color: #434B5C;\n",
              "      box-shadow: 0px 1px 3px 1px rgba(0, 0, 0, 0.15);\n",
              "      filter: drop-shadow(0px 1px 2px rgba(0, 0, 0, 0.3));\n",
              "      fill: #FFFFFF;\n",
              "    }\n",
              "  </style>\n",
              "\n",
              "      <script>\n",
              "        const buttonEl =\n",
              "          document.querySelector('#df-2bae26d5-8207-4240-9cad-92d5f301670a button.colab-df-convert');\n",
              "        buttonEl.style.display =\n",
              "          google.colab.kernel.accessAllowed ? 'block' : 'none';\n",
              "\n",
              "        async function convertToInteractive(key) {\n",
              "          const element = document.querySelector('#df-2bae26d5-8207-4240-9cad-92d5f301670a');\n",
              "          const dataTable =\n",
              "            await google.colab.kernel.invokeFunction('convertToInteractive',\n",
              "                                                     [key], {});\n",
              "          if (!dataTable) return;\n",
              "\n",
              "          const docLinkHtml = 'Like what you see? Visit the ' +\n",
              "            '<a target=\"_blank\" href=https://colab.research.google.com/notebooks/data_table.ipynb>data table notebook</a>'\n",
              "            + ' to learn more about interactive tables.';\n",
              "          element.innerHTML = '';\n",
              "          dataTable['output_type'] = 'display_data';\n",
              "          await google.colab.output.renderOutput(dataTable, element);\n",
              "          const docLink = document.createElement('div');\n",
              "          docLink.innerHTML = docLinkHtml;\n",
              "          element.appendChild(docLink);\n",
              "        }\n",
              "      </script>\n",
              "    </div>\n",
              "  </div>\n",
              "  "
            ]
          },
          "metadata": {},
          "execution_count": 1203
        }
      ],
      "source": [
        "X_test['CAPITAL'] = y_test\n",
        "X_test['CAPITAL_PREDITA'] = y_predito\n",
        "\n",
        "# X_test[X_test['CAPITAL'] == 1]\n",
        "tabela_resultados = pd.merge(data[['CITY', 'STATE']], X_test, how='inner', left_index=True, right_index=True)\n",
        "\n",
        "print(f'Número de cidades alocadas como capitais: {len(tabela_resultados[tabela_resultados.CAPITAL_PREDITA == 1])}\\n')\n",
        "tabela_resultados[tabela_resultados.CAPITAL_PREDITA == 1][['CITY', 'STATE']]"
      ]
    },
    {
      "cell_type": "markdown",
      "metadata": {
        "id": "2RvFtP09zX1v"
      },
      "source": [
        "Utilizando o Perceptron, é possível ver que apenas uma capitais foi deixada de lado."
      ]
    },
    {
      "cell_type": "code",
      "execution_count": null,
      "metadata": {
        "colab": {
          "base_uri": "https://localhost:8080/",
          "height": 401
        },
        "id": "a1v-exgizCGi",
        "outputId": "e80971be-e5f9-45f4-f1b8-f1cb1afeb86f"
      },
      "outputs": [
        {
          "output_type": "stream",
          "name": "stdout",
          "text": [
            "Número de capitais que foram classificadas como tais: 9 de 9\n",
            "Número de capitais que não foram classificadas como tais: 0 de 9\n",
            "\n",
            "Cidades corretamente classificadas como capitais:\n"
          ]
        },
        {
          "output_type": "execute_result",
          "data": {
            "text/plain": [
              "                CITY STATE\n",
              "294          Aracaju    SE\n",
              "642        Boa Vista    RR\n",
              "971     Campo Grande    MS\n",
              "1491          Cuiabá    MT\n",
              "2595     João Pessoa    PB\n",
              "3948    Porto Alegre    RS\n",
              "4193      Rio Branco    AC\n",
              "4208  Rio De Janeiro    RJ\n",
              "4813        São Luís    MA"
            ],
            "text/html": [
              "\n",
              "  <div id=\"df-83670f17-35c3-4afc-bd31-9047425b6b6d\">\n",
              "    <div class=\"colab-df-container\">\n",
              "      <div>\n",
              "<style scoped>\n",
              "    .dataframe tbody tr th:only-of-type {\n",
              "        vertical-align: middle;\n",
              "    }\n",
              "\n",
              "    .dataframe tbody tr th {\n",
              "        vertical-align: top;\n",
              "    }\n",
              "\n",
              "    .dataframe thead th {\n",
              "        text-align: right;\n",
              "    }\n",
              "</style>\n",
              "<table border=\"1\" class=\"dataframe\">\n",
              "  <thead>\n",
              "    <tr style=\"text-align: right;\">\n",
              "      <th></th>\n",
              "      <th>CITY</th>\n",
              "      <th>STATE</th>\n",
              "    </tr>\n",
              "  </thead>\n",
              "  <tbody>\n",
              "    <tr>\n",
              "      <th>294</th>\n",
              "      <td>Aracaju</td>\n",
              "      <td>SE</td>\n",
              "    </tr>\n",
              "    <tr>\n",
              "      <th>642</th>\n",
              "      <td>Boa Vista</td>\n",
              "      <td>RR</td>\n",
              "    </tr>\n",
              "    <tr>\n",
              "      <th>971</th>\n",
              "      <td>Campo Grande</td>\n",
              "      <td>MS</td>\n",
              "    </tr>\n",
              "    <tr>\n",
              "      <th>1491</th>\n",
              "      <td>Cuiabá</td>\n",
              "      <td>MT</td>\n",
              "    </tr>\n",
              "    <tr>\n",
              "      <th>2595</th>\n",
              "      <td>João Pessoa</td>\n",
              "      <td>PB</td>\n",
              "    </tr>\n",
              "    <tr>\n",
              "      <th>3948</th>\n",
              "      <td>Porto Alegre</td>\n",
              "      <td>RS</td>\n",
              "    </tr>\n",
              "    <tr>\n",
              "      <th>4193</th>\n",
              "      <td>Rio Branco</td>\n",
              "      <td>AC</td>\n",
              "    </tr>\n",
              "    <tr>\n",
              "      <th>4208</th>\n",
              "      <td>Rio De Janeiro</td>\n",
              "      <td>RJ</td>\n",
              "    </tr>\n",
              "    <tr>\n",
              "      <th>4813</th>\n",
              "      <td>São Luís</td>\n",
              "      <td>MA</td>\n",
              "    </tr>\n",
              "  </tbody>\n",
              "</table>\n",
              "</div>\n",
              "      <button class=\"colab-df-convert\" onclick=\"convertToInteractive('df-83670f17-35c3-4afc-bd31-9047425b6b6d')\"\n",
              "              title=\"Convert this dataframe to an interactive table.\"\n",
              "              style=\"display:none;\">\n",
              "        \n",
              "  <svg xmlns=\"http://www.w3.org/2000/svg\" height=\"24px\"viewBox=\"0 0 24 24\"\n",
              "       width=\"24px\">\n",
              "    <path d=\"M0 0h24v24H0V0z\" fill=\"none\"/>\n",
              "    <path d=\"M18.56 5.44l.94 2.06.94-2.06 2.06-.94-2.06-.94-.94-2.06-.94 2.06-2.06.94zm-11 1L8.5 8.5l.94-2.06 2.06-.94-2.06-.94L8.5 2.5l-.94 2.06-2.06.94zm10 10l.94 2.06.94-2.06 2.06-.94-2.06-.94-.94-2.06-.94 2.06-2.06.94z\"/><path d=\"M17.41 7.96l-1.37-1.37c-.4-.4-.92-.59-1.43-.59-.52 0-1.04.2-1.43.59L10.3 9.45l-7.72 7.72c-.78.78-.78 2.05 0 2.83L4 21.41c.39.39.9.59 1.41.59.51 0 1.02-.2 1.41-.59l7.78-7.78 2.81-2.81c.8-.78.8-2.07 0-2.86zM5.41 20L4 18.59l7.72-7.72 1.47 1.35L5.41 20z\"/>\n",
              "  </svg>\n",
              "      </button>\n",
              "      \n",
              "  <style>\n",
              "    .colab-df-container {\n",
              "      display:flex;\n",
              "      flex-wrap:wrap;\n",
              "      gap: 12px;\n",
              "    }\n",
              "\n",
              "    .colab-df-convert {\n",
              "      background-color: #E8F0FE;\n",
              "      border: none;\n",
              "      border-radius: 50%;\n",
              "      cursor: pointer;\n",
              "      display: none;\n",
              "      fill: #1967D2;\n",
              "      height: 32px;\n",
              "      padding: 0 0 0 0;\n",
              "      width: 32px;\n",
              "    }\n",
              "\n",
              "    .colab-df-convert:hover {\n",
              "      background-color: #E2EBFA;\n",
              "      box-shadow: 0px 1px 2px rgba(60, 64, 67, 0.3), 0px 1px 3px 1px rgba(60, 64, 67, 0.15);\n",
              "      fill: #174EA6;\n",
              "    }\n",
              "\n",
              "    [theme=dark] .colab-df-convert {\n",
              "      background-color: #3B4455;\n",
              "      fill: #D2E3FC;\n",
              "    }\n",
              "\n",
              "    [theme=dark] .colab-df-convert:hover {\n",
              "      background-color: #434B5C;\n",
              "      box-shadow: 0px 1px 3px 1px rgba(0, 0, 0, 0.15);\n",
              "      filter: drop-shadow(0px 1px 2px rgba(0, 0, 0, 0.3));\n",
              "      fill: #FFFFFF;\n",
              "    }\n",
              "  </style>\n",
              "\n",
              "      <script>\n",
              "        const buttonEl =\n",
              "          document.querySelector('#df-83670f17-35c3-4afc-bd31-9047425b6b6d button.colab-df-convert');\n",
              "        buttonEl.style.display =\n",
              "          google.colab.kernel.accessAllowed ? 'block' : 'none';\n",
              "\n",
              "        async function convertToInteractive(key) {\n",
              "          const element = document.querySelector('#df-83670f17-35c3-4afc-bd31-9047425b6b6d');\n",
              "          const dataTable =\n",
              "            await google.colab.kernel.invokeFunction('convertToInteractive',\n",
              "                                                     [key], {});\n",
              "          if (!dataTable) return;\n",
              "\n",
              "          const docLinkHtml = 'Like what you see? Visit the ' +\n",
              "            '<a target=\"_blank\" href=https://colab.research.google.com/notebooks/data_table.ipynb>data table notebook</a>'\n",
              "            + ' to learn more about interactive tables.';\n",
              "          element.innerHTML = '';\n",
              "          dataTable['output_type'] = 'display_data';\n",
              "          await google.colab.output.renderOutput(dataTable, element);\n",
              "          const docLink = document.createElement('div');\n",
              "          docLink.innerHTML = docLinkHtml;\n",
              "          element.appendChild(docLink);\n",
              "        }\n",
              "      </script>\n",
              "    </div>\n",
              "  </div>\n",
              "  "
            ]
          },
          "metadata": {},
          "execution_count": 1204
        }
      ],
      "source": [
        "print(f'Número de capitais que foram classificadas como tais: {len(tabela_resultados[(tabela_resultados.CAPITAL_PREDITA == 1) & (tabela_resultados.CAPITAL == 1)])} de {len(tabela_resultados[tabela_resultados.CAPITAL == 1])}')\n",
        "print(f'Número de capitais que não foram classificadas como tais: {len(tabela_resultados[(tabela_resultados.CAPITAL_PREDITA == 0) & (tabela_resultados.CAPITAL == 1)])} de {len(tabela_resultados[tabela_resultados.CAPITAL == 1])}\\n')\n",
        "\n",
        "print('Cidades corretamente classificadas como capitais:')\n",
        "tabela_resultados[(tabela_resultados.CAPITAL_PREDITA == 1) & (tabela_resultados.CAPITAL == 1)][['CITY', 'STATE']]"
      ]
    },
    {
      "cell_type": "markdown",
      "metadata": {
        "id": "SR3-L0ZHyXEn"
      },
      "source": [
        "# Algoritmo 4: SVM RBF (Kernel de Função de Base Radial)"
      ]
    },
    {
      "cell_type": "code",
      "execution_count": null,
      "metadata": {
        "colab": {
          "base_uri": "https://localhost:8080/"
        },
        "id": "IO-PatqUypm1",
        "outputId": "b19d362b-5470-412e-cad2-3aed0e9de8cc"
      },
      "outputs": [
        {
          "output_type": "stream",
          "name": "stderr",
          "text": [
            "/usr/local/lib/python3.10/dist-packages/sklearn/utils/validation.py:1143: DataConversionWarning:\n",
            "\n",
            "A column-vector y was passed when a 1d array was expected. Please change the shape of y to (n_samples, ), for example using ravel().\n",
            "\n"
          ]
        }
      ],
      "source": [
        "#Importa SVM do Sklearn\n",
        "from sklearn.svm import SVC\n",
        "\n",
        "# Divizão dos dados em teino e teste\n",
        "X_train, X_test, y_train, y_test = train_test_split(data_predicao.iloc[:, :-1], data_predicao.iloc[:, -1:], test_size=0.30)\n",
        "\n",
        "# Criação do classificador SVM\n",
        "rbfSVC = SVC(kernel='rbf', gamma=1.0, C=10.0)\n",
        "rbfSVC.fit(X_train, y_train)\n",
        "\n",
        "#Classe predita\n",
        "y_predito = rbfSVC.predict(X_test)"
      ]
    },
    {
      "cell_type": "code",
      "execution_count": null,
      "metadata": {
        "colab": {
          "base_uri": "https://localhost:8080/"
        },
        "id": "7bH2IP_by5Xf",
        "outputId": "6da3b56b-dacc-439d-d977-9a7559407b8c"
      },
      "outputs": [
        {
          "output_type": "stream",
          "name": "stdout",
          "text": [
            "Analise de desempenho do algoritmo:\n",
            "Acuracia: 99.82%\n",
            "Precisão: 100.0%\n",
            "Recall: 75.0%\n",
            "F1-Score: 85.71%\n"
          ]
        }
      ],
      "source": [
        "print('Analise de desempenho do algoritmo:')\n",
        "\n",
        "print(f'Acuracia: {round(metrics.accuracy_score(y_test, y_predito)*100, 2)}%')\n",
        "print(f'Precisão: {round(metrics.precision_score(y_test, y_predito)*100, 2)}%')\n",
        "print(f'Recall: {round(metrics.recall_score(y_test, y_predito)*100, 2)}%')\n",
        "print(f'F1-Score: {round(metrics.f1_score(y_test, y_predito)*100, 2)}%')"
      ]
    },
    {
      "cell_type": "code",
      "execution_count": null,
      "metadata": {
        "colab": {
          "base_uri": "https://localhost:8080/",
          "height": 366
        },
        "id": "82fbXhr1y8zV",
        "outputId": "65d03a61-01fc-48c2-b42e-f6eb431178d5"
      },
      "outputs": [
        {
          "output_type": "stream",
          "name": "stdout",
          "text": [
            "Número de cidades alocadas como capitais: 9\n",
            "\n"
          ]
        },
        {
          "output_type": "execute_result",
          "data": {
            "text/plain": [
              "                CITY STATE\n",
              "592   Belo Horizonte    MG\n",
              "971     Campo Grande    MS\n",
              "1491          Cuiabá    MT\n",
              "2886          Manaus    AM\n",
              "3240           Natal    RN\n",
              "3531          Palmas    TO\n",
              "4111          Recife    PE\n",
              "4193      Rio Branco    AC\n",
              "5212        Teresina    PI"
            ],
            "text/html": [
              "\n",
              "  <div id=\"df-7fbc2bb8-0add-45f0-9700-02ada269e568\">\n",
              "    <div class=\"colab-df-container\">\n",
              "      <div>\n",
              "<style scoped>\n",
              "    .dataframe tbody tr th:only-of-type {\n",
              "        vertical-align: middle;\n",
              "    }\n",
              "\n",
              "    .dataframe tbody tr th {\n",
              "        vertical-align: top;\n",
              "    }\n",
              "\n",
              "    .dataframe thead th {\n",
              "        text-align: right;\n",
              "    }\n",
              "</style>\n",
              "<table border=\"1\" class=\"dataframe\">\n",
              "  <thead>\n",
              "    <tr style=\"text-align: right;\">\n",
              "      <th></th>\n",
              "      <th>CITY</th>\n",
              "      <th>STATE</th>\n",
              "    </tr>\n",
              "  </thead>\n",
              "  <tbody>\n",
              "    <tr>\n",
              "      <th>592</th>\n",
              "      <td>Belo Horizonte</td>\n",
              "      <td>MG</td>\n",
              "    </tr>\n",
              "    <tr>\n",
              "      <th>971</th>\n",
              "      <td>Campo Grande</td>\n",
              "      <td>MS</td>\n",
              "    </tr>\n",
              "    <tr>\n",
              "      <th>1491</th>\n",
              "      <td>Cuiabá</td>\n",
              "      <td>MT</td>\n",
              "    </tr>\n",
              "    <tr>\n",
              "      <th>2886</th>\n",
              "      <td>Manaus</td>\n",
              "      <td>AM</td>\n",
              "    </tr>\n",
              "    <tr>\n",
              "      <th>3240</th>\n",
              "      <td>Natal</td>\n",
              "      <td>RN</td>\n",
              "    </tr>\n",
              "    <tr>\n",
              "      <th>3531</th>\n",
              "      <td>Palmas</td>\n",
              "      <td>TO</td>\n",
              "    </tr>\n",
              "    <tr>\n",
              "      <th>4111</th>\n",
              "      <td>Recife</td>\n",
              "      <td>PE</td>\n",
              "    </tr>\n",
              "    <tr>\n",
              "      <th>4193</th>\n",
              "      <td>Rio Branco</td>\n",
              "      <td>AC</td>\n",
              "    </tr>\n",
              "    <tr>\n",
              "      <th>5212</th>\n",
              "      <td>Teresina</td>\n",
              "      <td>PI</td>\n",
              "    </tr>\n",
              "  </tbody>\n",
              "</table>\n",
              "</div>\n",
              "      <button class=\"colab-df-convert\" onclick=\"convertToInteractive('df-7fbc2bb8-0add-45f0-9700-02ada269e568')\"\n",
              "              title=\"Convert this dataframe to an interactive table.\"\n",
              "              style=\"display:none;\">\n",
              "        \n",
              "  <svg xmlns=\"http://www.w3.org/2000/svg\" height=\"24px\"viewBox=\"0 0 24 24\"\n",
              "       width=\"24px\">\n",
              "    <path d=\"M0 0h24v24H0V0z\" fill=\"none\"/>\n",
              "    <path d=\"M18.56 5.44l.94 2.06.94-2.06 2.06-.94-2.06-.94-.94-2.06-.94 2.06-2.06.94zm-11 1L8.5 8.5l.94-2.06 2.06-.94-2.06-.94L8.5 2.5l-.94 2.06-2.06.94zm10 10l.94 2.06.94-2.06 2.06-.94-2.06-.94-.94-2.06-.94 2.06-2.06.94z\"/><path d=\"M17.41 7.96l-1.37-1.37c-.4-.4-.92-.59-1.43-.59-.52 0-1.04.2-1.43.59L10.3 9.45l-7.72 7.72c-.78.78-.78 2.05 0 2.83L4 21.41c.39.39.9.59 1.41.59.51 0 1.02-.2 1.41-.59l7.78-7.78 2.81-2.81c.8-.78.8-2.07 0-2.86zM5.41 20L4 18.59l7.72-7.72 1.47 1.35L5.41 20z\"/>\n",
              "  </svg>\n",
              "      </button>\n",
              "      \n",
              "  <style>\n",
              "    .colab-df-container {\n",
              "      display:flex;\n",
              "      flex-wrap:wrap;\n",
              "      gap: 12px;\n",
              "    }\n",
              "\n",
              "    .colab-df-convert {\n",
              "      background-color: #E8F0FE;\n",
              "      border: none;\n",
              "      border-radius: 50%;\n",
              "      cursor: pointer;\n",
              "      display: none;\n",
              "      fill: #1967D2;\n",
              "      height: 32px;\n",
              "      padding: 0 0 0 0;\n",
              "      width: 32px;\n",
              "    }\n",
              "\n",
              "    .colab-df-convert:hover {\n",
              "      background-color: #E2EBFA;\n",
              "      box-shadow: 0px 1px 2px rgba(60, 64, 67, 0.3), 0px 1px 3px 1px rgba(60, 64, 67, 0.15);\n",
              "      fill: #174EA6;\n",
              "    }\n",
              "\n",
              "    [theme=dark] .colab-df-convert {\n",
              "      background-color: #3B4455;\n",
              "      fill: #D2E3FC;\n",
              "    }\n",
              "\n",
              "    [theme=dark] .colab-df-convert:hover {\n",
              "      background-color: #434B5C;\n",
              "      box-shadow: 0px 1px 3px 1px rgba(0, 0, 0, 0.15);\n",
              "      filter: drop-shadow(0px 1px 2px rgba(0, 0, 0, 0.3));\n",
              "      fill: #FFFFFF;\n",
              "    }\n",
              "  </style>\n",
              "\n",
              "      <script>\n",
              "        const buttonEl =\n",
              "          document.querySelector('#df-7fbc2bb8-0add-45f0-9700-02ada269e568 button.colab-df-convert');\n",
              "        buttonEl.style.display =\n",
              "          google.colab.kernel.accessAllowed ? 'block' : 'none';\n",
              "\n",
              "        async function convertToInteractive(key) {\n",
              "          const element = document.querySelector('#df-7fbc2bb8-0add-45f0-9700-02ada269e568');\n",
              "          const dataTable =\n",
              "            await google.colab.kernel.invokeFunction('convertToInteractive',\n",
              "                                                     [key], {});\n",
              "          if (!dataTable) return;\n",
              "\n",
              "          const docLinkHtml = 'Like what you see? Visit the ' +\n",
              "            '<a target=\"_blank\" href=https://colab.research.google.com/notebooks/data_table.ipynb>data table notebook</a>'\n",
              "            + ' to learn more about interactive tables.';\n",
              "          element.innerHTML = '';\n",
              "          dataTable['output_type'] = 'display_data';\n",
              "          await google.colab.output.renderOutput(dataTable, element);\n",
              "          const docLink = document.createElement('div');\n",
              "          docLink.innerHTML = docLinkHtml;\n",
              "          element.appendChild(docLink);\n",
              "        }\n",
              "      </script>\n",
              "    </div>\n",
              "  </div>\n",
              "  "
            ]
          },
          "metadata": {},
          "execution_count": 1175
        }
      ],
      "source": [
        "X_test['CAPITAL'] = y_test\n",
        "X_test['CAPITAL_PREDITA'] = y_predito\n",
        "\n",
        "# X_test[X_test['CAPITAL'] == 1]\n",
        "tabela_resultados = pd.merge(data[['CITY', 'STATE']], X_test, how='inner', left_index=True, right_index=True)\n",
        "\n",
        "print(f'Número de cidades alocadas como capitais: {len(tabela_resultados[tabela_resultados.CAPITAL_PREDITA == 1])}\\n')\n",
        "tabela_resultados[tabela_resultados.CAPITAL_PREDITA == 1][['CITY', 'STATE']]"
      ]
    },
    {
      "cell_type": "code",
      "execution_count": null,
      "metadata": {
        "colab": {
          "base_uri": "https://localhost:8080/",
          "height": 401
        },
        "id": "0ptULzq5y9Sr",
        "outputId": "bc296c19-858a-4dd5-e186-76a3fa729f9d"
      },
      "outputs": [
        {
          "output_type": "stream",
          "name": "stdout",
          "text": [
            "Número de capitais que foram classificadas como tais: 9 de 12\n",
            "Número de capitais que não foram classificadas como tais: 3 de 12\n",
            "\n",
            "Cidades corretamente classificadas como capitais:\n"
          ]
        },
        {
          "output_type": "execute_result",
          "data": {
            "text/plain": [
              "                CITY STATE\n",
              "592   Belo Horizonte    MG\n",
              "971     Campo Grande    MS\n",
              "1491          Cuiabá    MT\n",
              "2886          Manaus    AM\n",
              "3240           Natal    RN\n",
              "3531          Palmas    TO\n",
              "4111          Recife    PE\n",
              "4193      Rio Branco    AC\n",
              "5212        Teresina    PI"
            ],
            "text/html": [
              "\n",
              "  <div id=\"df-2cd809ff-62df-4677-9a5c-2b2b5840390e\">\n",
              "    <div class=\"colab-df-container\">\n",
              "      <div>\n",
              "<style scoped>\n",
              "    .dataframe tbody tr th:only-of-type {\n",
              "        vertical-align: middle;\n",
              "    }\n",
              "\n",
              "    .dataframe tbody tr th {\n",
              "        vertical-align: top;\n",
              "    }\n",
              "\n",
              "    .dataframe thead th {\n",
              "        text-align: right;\n",
              "    }\n",
              "</style>\n",
              "<table border=\"1\" class=\"dataframe\">\n",
              "  <thead>\n",
              "    <tr style=\"text-align: right;\">\n",
              "      <th></th>\n",
              "      <th>CITY</th>\n",
              "      <th>STATE</th>\n",
              "    </tr>\n",
              "  </thead>\n",
              "  <tbody>\n",
              "    <tr>\n",
              "      <th>592</th>\n",
              "      <td>Belo Horizonte</td>\n",
              "      <td>MG</td>\n",
              "    </tr>\n",
              "    <tr>\n",
              "      <th>971</th>\n",
              "      <td>Campo Grande</td>\n",
              "      <td>MS</td>\n",
              "    </tr>\n",
              "    <tr>\n",
              "      <th>1491</th>\n",
              "      <td>Cuiabá</td>\n",
              "      <td>MT</td>\n",
              "    </tr>\n",
              "    <tr>\n",
              "      <th>2886</th>\n",
              "      <td>Manaus</td>\n",
              "      <td>AM</td>\n",
              "    </tr>\n",
              "    <tr>\n",
              "      <th>3240</th>\n",
              "      <td>Natal</td>\n",
              "      <td>RN</td>\n",
              "    </tr>\n",
              "    <tr>\n",
              "      <th>3531</th>\n",
              "      <td>Palmas</td>\n",
              "      <td>TO</td>\n",
              "    </tr>\n",
              "    <tr>\n",
              "      <th>4111</th>\n",
              "      <td>Recife</td>\n",
              "      <td>PE</td>\n",
              "    </tr>\n",
              "    <tr>\n",
              "      <th>4193</th>\n",
              "      <td>Rio Branco</td>\n",
              "      <td>AC</td>\n",
              "    </tr>\n",
              "    <tr>\n",
              "      <th>5212</th>\n",
              "      <td>Teresina</td>\n",
              "      <td>PI</td>\n",
              "    </tr>\n",
              "  </tbody>\n",
              "</table>\n",
              "</div>\n",
              "      <button class=\"colab-df-convert\" onclick=\"convertToInteractive('df-2cd809ff-62df-4677-9a5c-2b2b5840390e')\"\n",
              "              title=\"Convert this dataframe to an interactive table.\"\n",
              "              style=\"display:none;\">\n",
              "        \n",
              "  <svg xmlns=\"http://www.w3.org/2000/svg\" height=\"24px\"viewBox=\"0 0 24 24\"\n",
              "       width=\"24px\">\n",
              "    <path d=\"M0 0h24v24H0V0z\" fill=\"none\"/>\n",
              "    <path d=\"M18.56 5.44l.94 2.06.94-2.06 2.06-.94-2.06-.94-.94-2.06-.94 2.06-2.06.94zm-11 1L8.5 8.5l.94-2.06 2.06-.94-2.06-.94L8.5 2.5l-.94 2.06-2.06.94zm10 10l.94 2.06.94-2.06 2.06-.94-2.06-.94-.94-2.06-.94 2.06-2.06.94z\"/><path d=\"M17.41 7.96l-1.37-1.37c-.4-.4-.92-.59-1.43-.59-.52 0-1.04.2-1.43.59L10.3 9.45l-7.72 7.72c-.78.78-.78 2.05 0 2.83L4 21.41c.39.39.9.59 1.41.59.51 0 1.02-.2 1.41-.59l7.78-7.78 2.81-2.81c.8-.78.8-2.07 0-2.86zM5.41 20L4 18.59l7.72-7.72 1.47 1.35L5.41 20z\"/>\n",
              "  </svg>\n",
              "      </button>\n",
              "      \n",
              "  <style>\n",
              "    .colab-df-container {\n",
              "      display:flex;\n",
              "      flex-wrap:wrap;\n",
              "      gap: 12px;\n",
              "    }\n",
              "\n",
              "    .colab-df-convert {\n",
              "      background-color: #E8F0FE;\n",
              "      border: none;\n",
              "      border-radius: 50%;\n",
              "      cursor: pointer;\n",
              "      display: none;\n",
              "      fill: #1967D2;\n",
              "      height: 32px;\n",
              "      padding: 0 0 0 0;\n",
              "      width: 32px;\n",
              "    }\n",
              "\n",
              "    .colab-df-convert:hover {\n",
              "      background-color: #E2EBFA;\n",
              "      box-shadow: 0px 1px 2px rgba(60, 64, 67, 0.3), 0px 1px 3px 1px rgba(60, 64, 67, 0.15);\n",
              "      fill: #174EA6;\n",
              "    }\n",
              "\n",
              "    [theme=dark] .colab-df-convert {\n",
              "      background-color: #3B4455;\n",
              "      fill: #D2E3FC;\n",
              "    }\n",
              "\n",
              "    [theme=dark] .colab-df-convert:hover {\n",
              "      background-color: #434B5C;\n",
              "      box-shadow: 0px 1px 3px 1px rgba(0, 0, 0, 0.15);\n",
              "      filter: drop-shadow(0px 1px 2px rgba(0, 0, 0, 0.3));\n",
              "      fill: #FFFFFF;\n",
              "    }\n",
              "  </style>\n",
              "\n",
              "      <script>\n",
              "        const buttonEl =\n",
              "          document.querySelector('#df-2cd809ff-62df-4677-9a5c-2b2b5840390e button.colab-df-convert');\n",
              "        buttonEl.style.display =\n",
              "          google.colab.kernel.accessAllowed ? 'block' : 'none';\n",
              "\n",
              "        async function convertToInteractive(key) {\n",
              "          const element = document.querySelector('#df-2cd809ff-62df-4677-9a5c-2b2b5840390e');\n",
              "          const dataTable =\n",
              "            await google.colab.kernel.invokeFunction('convertToInteractive',\n",
              "                                                     [key], {});\n",
              "          if (!dataTable) return;\n",
              "\n",
              "          const docLinkHtml = 'Like what you see? Visit the ' +\n",
              "            '<a target=\"_blank\" href=https://colab.research.google.com/notebooks/data_table.ipynb>data table notebook</a>'\n",
              "            + ' to learn more about interactive tables.';\n",
              "          element.innerHTML = '';\n",
              "          dataTable['output_type'] = 'display_data';\n",
              "          await google.colab.output.renderOutput(dataTable, element);\n",
              "          const docLink = document.createElement('div');\n",
              "          docLink.innerHTML = docLinkHtml;\n",
              "          element.appendChild(docLink);\n",
              "        }\n",
              "      </script>\n",
              "    </div>\n",
              "  </div>\n",
              "  "
            ]
          },
          "metadata": {},
          "execution_count": 1176
        }
      ],
      "source": [
        "print(f'Número de capitais que foram classificadas como tais: {len(tabela_resultados[(tabela_resultados.CAPITAL_PREDITA == 1) & (tabela_resultados.CAPITAL == 1)])} de {len(tabela_resultados[tabela_resultados.CAPITAL == 1])}')\n",
        "print(f'Número de capitais que não foram classificadas como tais: {len(tabela_resultados[(tabela_resultados.CAPITAL_PREDITA == 0) & (tabela_resultados.CAPITAL == 1)])} de {len(tabela_resultados[tabela_resultados.CAPITAL == 1])}\\n')\n",
        "\n",
        "print('Cidades corretamente classificadas como capitais:')\n",
        "tabela_resultados[(tabela_resultados.CAPITAL_PREDITA == 1) & (tabela_resultados.CAPITAL == 1)][['CITY', 'STATE']]"
      ]
    },
    {
      "cell_type": "markdown",
      "metadata": {
        "id": "IcVFj_hr4EJ7"
      },
      "source": [
        "# Algoritmo 5: k-Nearest Neighbors (k-NN)"
      ]
    },
    {
      "cell_type": "code",
      "execution_count": null,
      "metadata": {
        "colab": {
          "base_uri": "https://localhost:8080/"
        },
        "id": "zNIzTnbx4Jxp",
        "outputId": "51282c26-5a10-4f9c-d711-6ac7abaa7e4e"
      },
      "outputs": [
        {
          "output_type": "stream",
          "name": "stderr",
          "text": [
            "/usr/local/lib/python3.10/dist-packages/sklearn/neighbors/_classification.py:215: DataConversionWarning:\n",
            "\n",
            "A column-vector y was passed when a 1d array was expected. Please change the shape of y to (n_samples,), for example using ravel().\n",
            "\n"
          ]
        }
      ],
      "source": [
        "#Importa k-NN do Sklearn\n",
        "from sklearn.neighbors import KNeighborsClassifier\n",
        "\n",
        "# Divizão dos dados em teino e teste\n",
        "X_train, X_test, y_train, y_test = train_test_split(data_predicao.iloc[:, :-1], data_predicao.iloc[:, -1:], test_size=0.30)\n",
        "\n",
        "# Criação do classificador k-NN\n",
        "knn = KNeighborsClassifier()\n",
        "knn.fit(X_train, y_train)\n",
        "\n",
        "#Classe predita\n",
        "y_predito = knn.predict(X_test)"
      ]
    },
    {
      "cell_type": "code",
      "execution_count": null,
      "metadata": {
        "colab": {
          "base_uri": "https://localhost:8080/"
        },
        "id": "O3pafqP64SGO",
        "outputId": "65da7a6f-b370-4a26-be95-9f428a70b291"
      },
      "outputs": [
        {
          "output_type": "stream",
          "name": "stdout",
          "text": [
            "Analise de desempenho do algoritmo:\n",
            "Acuracia: 99.94%\n",
            "Precisão: 100.0%\n",
            "Recall: 85.71%\n",
            "F1-Score: 92.31%\n"
          ]
        }
      ],
      "source": [
        "print('Analise de desempenho do algoritmo:')\n",
        "\n",
        "print(f'Acuracia: {round(metrics.accuracy_score(y_test, y_predito)*100, 2)}%')\n",
        "print(f'Precisão: {round(metrics.precision_score(y_test, y_predito)*100, 2)}%')\n",
        "print(f'Recall: {round(metrics.recall_score(y_test, y_predito)*100, 2)}%')\n",
        "print(f'F1-Score: {round(metrics.f1_score(y_test, y_predito)*100, 2)}%')"
      ]
    },
    {
      "cell_type": "code",
      "execution_count": null,
      "metadata": {
        "colab": {
          "base_uri": "https://localhost:8080/",
          "height": 272
        },
        "id": "S-6-Imjj4TnB",
        "outputId": "1ef2eb2e-7c64-4274-dbe4-a0a18f86a77c"
      },
      "outputs": [
        {
          "output_type": "stream",
          "name": "stdout",
          "text": [
            "Número de cidades alocadas como capitais: 6\n",
            "\n"
          ]
        },
        {
          "output_type": "execute_result",
          "data": {
            "text/plain": [
              "            CITY STATE\n",
              "755     Brasília    DF\n",
              "1508    Curitiba    PR\n",
              "3240       Natal    RN\n",
              "4193  Rio Branco    AC\n",
              "4813    São Luís    MA\n",
              "5212    Teresina    PI"
            ],
            "text/html": [
              "\n",
              "  <div id=\"df-2bacb1cf-aff2-4738-9b77-892d819d0416\">\n",
              "    <div class=\"colab-df-container\">\n",
              "      <div>\n",
              "<style scoped>\n",
              "    .dataframe tbody tr th:only-of-type {\n",
              "        vertical-align: middle;\n",
              "    }\n",
              "\n",
              "    .dataframe tbody tr th {\n",
              "        vertical-align: top;\n",
              "    }\n",
              "\n",
              "    .dataframe thead th {\n",
              "        text-align: right;\n",
              "    }\n",
              "</style>\n",
              "<table border=\"1\" class=\"dataframe\">\n",
              "  <thead>\n",
              "    <tr style=\"text-align: right;\">\n",
              "      <th></th>\n",
              "      <th>CITY</th>\n",
              "      <th>STATE</th>\n",
              "    </tr>\n",
              "  </thead>\n",
              "  <tbody>\n",
              "    <tr>\n",
              "      <th>755</th>\n",
              "      <td>Brasília</td>\n",
              "      <td>DF</td>\n",
              "    </tr>\n",
              "    <tr>\n",
              "      <th>1508</th>\n",
              "      <td>Curitiba</td>\n",
              "      <td>PR</td>\n",
              "    </tr>\n",
              "    <tr>\n",
              "      <th>3240</th>\n",
              "      <td>Natal</td>\n",
              "      <td>RN</td>\n",
              "    </tr>\n",
              "    <tr>\n",
              "      <th>4193</th>\n",
              "      <td>Rio Branco</td>\n",
              "      <td>AC</td>\n",
              "    </tr>\n",
              "    <tr>\n",
              "      <th>4813</th>\n",
              "      <td>São Luís</td>\n",
              "      <td>MA</td>\n",
              "    </tr>\n",
              "    <tr>\n",
              "      <th>5212</th>\n",
              "      <td>Teresina</td>\n",
              "      <td>PI</td>\n",
              "    </tr>\n",
              "  </tbody>\n",
              "</table>\n",
              "</div>\n",
              "      <button class=\"colab-df-convert\" onclick=\"convertToInteractive('df-2bacb1cf-aff2-4738-9b77-892d819d0416')\"\n",
              "              title=\"Convert this dataframe to an interactive table.\"\n",
              "              style=\"display:none;\">\n",
              "        \n",
              "  <svg xmlns=\"http://www.w3.org/2000/svg\" height=\"24px\"viewBox=\"0 0 24 24\"\n",
              "       width=\"24px\">\n",
              "    <path d=\"M0 0h24v24H0V0z\" fill=\"none\"/>\n",
              "    <path d=\"M18.56 5.44l.94 2.06.94-2.06 2.06-.94-2.06-.94-.94-2.06-.94 2.06-2.06.94zm-11 1L8.5 8.5l.94-2.06 2.06-.94-2.06-.94L8.5 2.5l-.94 2.06-2.06.94zm10 10l.94 2.06.94-2.06 2.06-.94-2.06-.94-.94-2.06-.94 2.06-2.06.94z\"/><path d=\"M17.41 7.96l-1.37-1.37c-.4-.4-.92-.59-1.43-.59-.52 0-1.04.2-1.43.59L10.3 9.45l-7.72 7.72c-.78.78-.78 2.05 0 2.83L4 21.41c.39.39.9.59 1.41.59.51 0 1.02-.2 1.41-.59l7.78-7.78 2.81-2.81c.8-.78.8-2.07 0-2.86zM5.41 20L4 18.59l7.72-7.72 1.47 1.35L5.41 20z\"/>\n",
              "  </svg>\n",
              "      </button>\n",
              "      \n",
              "  <style>\n",
              "    .colab-df-container {\n",
              "      display:flex;\n",
              "      flex-wrap:wrap;\n",
              "      gap: 12px;\n",
              "    }\n",
              "\n",
              "    .colab-df-convert {\n",
              "      background-color: #E8F0FE;\n",
              "      border: none;\n",
              "      border-radius: 50%;\n",
              "      cursor: pointer;\n",
              "      display: none;\n",
              "      fill: #1967D2;\n",
              "      height: 32px;\n",
              "      padding: 0 0 0 0;\n",
              "      width: 32px;\n",
              "    }\n",
              "\n",
              "    .colab-df-convert:hover {\n",
              "      background-color: #E2EBFA;\n",
              "      box-shadow: 0px 1px 2px rgba(60, 64, 67, 0.3), 0px 1px 3px 1px rgba(60, 64, 67, 0.15);\n",
              "      fill: #174EA6;\n",
              "    }\n",
              "\n",
              "    [theme=dark] .colab-df-convert {\n",
              "      background-color: #3B4455;\n",
              "      fill: #D2E3FC;\n",
              "    }\n",
              "\n",
              "    [theme=dark] .colab-df-convert:hover {\n",
              "      background-color: #434B5C;\n",
              "      box-shadow: 0px 1px 3px 1px rgba(0, 0, 0, 0.15);\n",
              "      filter: drop-shadow(0px 1px 2px rgba(0, 0, 0, 0.3));\n",
              "      fill: #FFFFFF;\n",
              "    }\n",
              "  </style>\n",
              "\n",
              "      <script>\n",
              "        const buttonEl =\n",
              "          document.querySelector('#df-2bacb1cf-aff2-4738-9b77-892d819d0416 button.colab-df-convert');\n",
              "        buttonEl.style.display =\n",
              "          google.colab.kernel.accessAllowed ? 'block' : 'none';\n",
              "\n",
              "        async function convertToInteractive(key) {\n",
              "          const element = document.querySelector('#df-2bacb1cf-aff2-4738-9b77-892d819d0416');\n",
              "          const dataTable =\n",
              "            await google.colab.kernel.invokeFunction('convertToInteractive',\n",
              "                                                     [key], {});\n",
              "          if (!dataTable) return;\n",
              "\n",
              "          const docLinkHtml = 'Like what you see? Visit the ' +\n",
              "            '<a target=\"_blank\" href=https://colab.research.google.com/notebooks/data_table.ipynb>data table notebook</a>'\n",
              "            + ' to learn more about interactive tables.';\n",
              "          element.innerHTML = '';\n",
              "          dataTable['output_type'] = 'display_data';\n",
              "          await google.colab.output.renderOutput(dataTable, element);\n",
              "          const docLink = document.createElement('div');\n",
              "          docLink.innerHTML = docLinkHtml;\n",
              "          element.appendChild(docLink);\n",
              "        }\n",
              "      </script>\n",
              "    </div>\n",
              "  </div>\n",
              "  "
            ]
          },
          "metadata": {},
          "execution_count": 1179
        }
      ],
      "source": [
        "X_test['CAPITAL'] = y_test\n",
        "X_test['CAPITAL_PREDITA'] = y_predito\n",
        "\n",
        "# X_test[X_test['CAPITAL'] == 1]\n",
        "tabela_resultados = pd.merge(data[['CITY', 'STATE']], X_test, how='inner', left_index=True, right_index=True)\n",
        "\n",
        "print(f'Número de cidades alocadas como capitais: {len(tabela_resultados[tabela_resultados.CAPITAL_PREDITA == 1])}\\n')\n",
        "tabela_resultados[tabela_resultados.CAPITAL_PREDITA == 1][['CITY', 'STATE']]"
      ]
    },
    {
      "cell_type": "code",
      "execution_count": null,
      "metadata": {
        "colab": {
          "base_uri": "https://localhost:8080/",
          "height": 307
        },
        "id": "0jiJMc7k4UhN",
        "outputId": "664bd856-fc86-405e-f26d-ff70d063c512"
      },
      "outputs": [
        {
          "output_type": "stream",
          "name": "stdout",
          "text": [
            "Número de capitais que foram classificadas como tais: 6 de 7\n",
            "Número de capitais que não foram classificadas como tais: 1 de 7\n",
            "\n",
            "Cidades corretamente classificadas como capitais:\n"
          ]
        },
        {
          "output_type": "execute_result",
          "data": {
            "text/plain": [
              "            CITY STATE\n",
              "755     Brasília    DF\n",
              "1508    Curitiba    PR\n",
              "3240       Natal    RN\n",
              "4193  Rio Branco    AC\n",
              "4813    São Luís    MA\n",
              "5212    Teresina    PI"
            ],
            "text/html": [
              "\n",
              "  <div id=\"df-9a47391d-af61-4534-aeff-7487587296b8\">\n",
              "    <div class=\"colab-df-container\">\n",
              "      <div>\n",
              "<style scoped>\n",
              "    .dataframe tbody tr th:only-of-type {\n",
              "        vertical-align: middle;\n",
              "    }\n",
              "\n",
              "    .dataframe tbody tr th {\n",
              "        vertical-align: top;\n",
              "    }\n",
              "\n",
              "    .dataframe thead th {\n",
              "        text-align: right;\n",
              "    }\n",
              "</style>\n",
              "<table border=\"1\" class=\"dataframe\">\n",
              "  <thead>\n",
              "    <tr style=\"text-align: right;\">\n",
              "      <th></th>\n",
              "      <th>CITY</th>\n",
              "      <th>STATE</th>\n",
              "    </tr>\n",
              "  </thead>\n",
              "  <tbody>\n",
              "    <tr>\n",
              "      <th>755</th>\n",
              "      <td>Brasília</td>\n",
              "      <td>DF</td>\n",
              "    </tr>\n",
              "    <tr>\n",
              "      <th>1508</th>\n",
              "      <td>Curitiba</td>\n",
              "      <td>PR</td>\n",
              "    </tr>\n",
              "    <tr>\n",
              "      <th>3240</th>\n",
              "      <td>Natal</td>\n",
              "      <td>RN</td>\n",
              "    </tr>\n",
              "    <tr>\n",
              "      <th>4193</th>\n",
              "      <td>Rio Branco</td>\n",
              "      <td>AC</td>\n",
              "    </tr>\n",
              "    <tr>\n",
              "      <th>4813</th>\n",
              "      <td>São Luís</td>\n",
              "      <td>MA</td>\n",
              "    </tr>\n",
              "    <tr>\n",
              "      <th>5212</th>\n",
              "      <td>Teresina</td>\n",
              "      <td>PI</td>\n",
              "    </tr>\n",
              "  </tbody>\n",
              "</table>\n",
              "</div>\n",
              "      <button class=\"colab-df-convert\" onclick=\"convertToInteractive('df-9a47391d-af61-4534-aeff-7487587296b8')\"\n",
              "              title=\"Convert this dataframe to an interactive table.\"\n",
              "              style=\"display:none;\">\n",
              "        \n",
              "  <svg xmlns=\"http://www.w3.org/2000/svg\" height=\"24px\"viewBox=\"0 0 24 24\"\n",
              "       width=\"24px\">\n",
              "    <path d=\"M0 0h24v24H0V0z\" fill=\"none\"/>\n",
              "    <path d=\"M18.56 5.44l.94 2.06.94-2.06 2.06-.94-2.06-.94-.94-2.06-.94 2.06-2.06.94zm-11 1L8.5 8.5l.94-2.06 2.06-.94-2.06-.94L8.5 2.5l-.94 2.06-2.06.94zm10 10l.94 2.06.94-2.06 2.06-.94-2.06-.94-.94-2.06-.94 2.06-2.06.94z\"/><path d=\"M17.41 7.96l-1.37-1.37c-.4-.4-.92-.59-1.43-.59-.52 0-1.04.2-1.43.59L10.3 9.45l-7.72 7.72c-.78.78-.78 2.05 0 2.83L4 21.41c.39.39.9.59 1.41.59.51 0 1.02-.2 1.41-.59l7.78-7.78 2.81-2.81c.8-.78.8-2.07 0-2.86zM5.41 20L4 18.59l7.72-7.72 1.47 1.35L5.41 20z\"/>\n",
              "  </svg>\n",
              "      </button>\n",
              "      \n",
              "  <style>\n",
              "    .colab-df-container {\n",
              "      display:flex;\n",
              "      flex-wrap:wrap;\n",
              "      gap: 12px;\n",
              "    }\n",
              "\n",
              "    .colab-df-convert {\n",
              "      background-color: #E8F0FE;\n",
              "      border: none;\n",
              "      border-radius: 50%;\n",
              "      cursor: pointer;\n",
              "      display: none;\n",
              "      fill: #1967D2;\n",
              "      height: 32px;\n",
              "      padding: 0 0 0 0;\n",
              "      width: 32px;\n",
              "    }\n",
              "\n",
              "    .colab-df-convert:hover {\n",
              "      background-color: #E2EBFA;\n",
              "      box-shadow: 0px 1px 2px rgba(60, 64, 67, 0.3), 0px 1px 3px 1px rgba(60, 64, 67, 0.15);\n",
              "      fill: #174EA6;\n",
              "    }\n",
              "\n",
              "    [theme=dark] .colab-df-convert {\n",
              "      background-color: #3B4455;\n",
              "      fill: #D2E3FC;\n",
              "    }\n",
              "\n",
              "    [theme=dark] .colab-df-convert:hover {\n",
              "      background-color: #434B5C;\n",
              "      box-shadow: 0px 1px 3px 1px rgba(0, 0, 0, 0.15);\n",
              "      filter: drop-shadow(0px 1px 2px rgba(0, 0, 0, 0.3));\n",
              "      fill: #FFFFFF;\n",
              "    }\n",
              "  </style>\n",
              "\n",
              "      <script>\n",
              "        const buttonEl =\n",
              "          document.querySelector('#df-9a47391d-af61-4534-aeff-7487587296b8 button.colab-df-convert');\n",
              "        buttonEl.style.display =\n",
              "          google.colab.kernel.accessAllowed ? 'block' : 'none';\n",
              "\n",
              "        async function convertToInteractive(key) {\n",
              "          const element = document.querySelector('#df-9a47391d-af61-4534-aeff-7487587296b8');\n",
              "          const dataTable =\n",
              "            await google.colab.kernel.invokeFunction('convertToInteractive',\n",
              "                                                     [key], {});\n",
              "          if (!dataTable) return;\n",
              "\n",
              "          const docLinkHtml = 'Like what you see? Visit the ' +\n",
              "            '<a target=\"_blank\" href=https://colab.research.google.com/notebooks/data_table.ipynb>data table notebook</a>'\n",
              "            + ' to learn more about interactive tables.';\n",
              "          element.innerHTML = '';\n",
              "          dataTable['output_type'] = 'display_data';\n",
              "          await google.colab.output.renderOutput(dataTable, element);\n",
              "          const docLink = document.createElement('div');\n",
              "          docLink.innerHTML = docLinkHtml;\n",
              "          element.appendChild(docLink);\n",
              "        }\n",
              "      </script>\n",
              "    </div>\n",
              "  </div>\n",
              "  "
            ]
          },
          "metadata": {},
          "execution_count": 1180
        }
      ],
      "source": [
        "print(f'Número de capitais que foram classificadas como tais: {len(tabela_resultados[(tabela_resultados.CAPITAL_PREDITA == 1) & (tabela_resultados.CAPITAL == 1)])} de {len(tabela_resultados[tabela_resultados.CAPITAL == 1])}')\n",
        "print(f'Número de capitais que não foram classificadas como tais: {len(tabela_resultados[(tabela_resultados.CAPITAL_PREDITA == 0) & (tabela_resultados.CAPITAL == 1)])} de {len(tabela_resultados[tabela_resultados.CAPITAL == 1])}\\n')\n",
        "\n",
        "print('Cidades corretamente classificadas como capitais:')\n",
        "tabela_resultados[(tabela_resultados.CAPITAL_PREDITA == 1) & (tabela_resultados.CAPITAL == 1)][['CITY', 'STATE']]"
      ]
    },
    {
      "cell_type": "markdown",
      "metadata": {
        "id": "mWf1DS0Myg67"
      },
      "source": [
        "# Conclusões\n",
        "\n",
        "Por meio da análise feita sobre o conjunto de dados escolhido, pôde-se observar características gerais do Brasil, a partir da relação entre as estatísticas dos municípios brasileiros. Além disso, foi possível discutir a respeito da importância e influência dos dados para garantir se uma cidade é capital ou não.\n",
        "\n",
        "Com relação à classificação realizada, foi possível analisar o desempenho de cada um dos métodos vistos nas aulas até então, ressaltando assim as diferenças e as individualidades dos mesmos. Através do resultado final, observa-se que, em geral, os classificadores obtiveram bons resultados de acurácia, precisão, recall e F1-score, com exceção do Naive Bayes, que obteve valores ruins de precisão e F1-score. Esse mau resultado provavelmente se deve ao fato de que os atributos do dataset são bastante dependentes entre si.\n"
      ]
    }
  ],
  "metadata": {
    "colab": {
      "provenance": []
    },
    "kernelspec": {
      "display_name": "Python 3",
      "name": "python3"
    },
    "language_info": {
      "name": "python"
    }
  },
  "nbformat": 4,
  "nbformat_minor": 0
}